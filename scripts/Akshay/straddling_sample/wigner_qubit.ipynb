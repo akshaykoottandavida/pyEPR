{
 "cells": [
  {
   "cell_type": "code",
   "execution_count": 105,
   "metadata": {
    "scrolled": true
   },
   "outputs": [
    {
     "name": "stdout",
     "output_type": "stream",
     "text": [
      "The autoreload extension is already loaded. To reload it, use:\n",
      "  %reload_ext autoreload\n"
     ]
    }
   ],
   "source": [
    "%load_ext autoreload\n",
    "%autoreload 2\n",
    "%config IPCompleter.greedy = True"
   ]
  },
  {
   "cell_type": "markdown",
   "metadata": {},
   "source": [
    "# pyEPR analysis of straddling regime sample for pair-coherent state experiment\n",
    "\n",
    "\n",
    "Author: Akshay Koottandavida"
   ]
  },
  {
   "cell_type": "markdown",
   "metadata": {},
   "source": [
    "## <div style=\"background:yellow;line-height:2em;\">Project = straddling_regime_transmon <br> Design = 3. wigner_qubit<div>"
   ]
  },
  {
   "cell_type": "code",
   "execution_count": 106,
   "metadata": {},
   "outputs": [
    {
     "name": "stdout",
     "output_type": "stream",
     "text": [
      "Parsing units:  2um = 2e-06 meters\n",
      "For   L_J = 8.5nH, the Josephson junction energy is\n",
      "      E_J = 19.2 GHz\n"
     ]
    }
   ],
   "source": [
    "import pyEPR as epr\n",
    "from pathlib import Path\n",
    "import logging\n",
    "import matplotlib.pyplot as plt\n",
    "import numpy as np\n",
    "epr.logger.setLevel(logging.DEBUG)\n",
    "%matplotlib inline\n",
    "\n",
    "print('Parsing units:  2um =', \n",
    "      epr.parse_entry('2um', 'meters'), 'meters')\n",
    "\n",
    "print(f\"\"\"For   L_J = 8.5nH, the Josephson junction energy is\n",
    "      E_J = {epr.calcs.Convert.Ej_from_Lj(8.5, 'nH', 'GHz'):.1f} GHz\"\"\")"
   ]
  },
  {
   "cell_type": "code",
   "execution_count": 107,
   "metadata": {},
   "outputs": [
    {
     "name": "stderr",
     "output_type": "stream",
     "text": [
      "INFO 03:23PM [connect]: Connecting to Ansys Desktop API...\n",
      "INFO 03:23PM [load_ansys_project]: \tFile path to HFSS project found.\n",
      "INFO 03:23PM [load_ansys_project]: \tOpened Ansys App\n",
      "INFO 03:23PM [load_ansys_project]: \tOpened Ansys Desktop v2016.0.0\n"
     ]
    },
    {
     "name": "stdout",
     "output_type": "stream",
     "text": [
      "Z:\\akshay_koottandavida\\3. Pair-Coherent States\\HFSS\\pcs_straddling_regime\n",
      "straddling_regime_transmon\n"
     ]
    },
    {
     "name": "stderr",
     "output_type": "stream",
     "text": [
      "INFO 03:23PM [load_ansys_project]: \tOpened Ansys Project\n",
      "\tFolder:    Z:/akshay_koottandavida/3. Pair-Coherent States/HFSS/pcs_straddling_regime/\n",
      "\tProject:   straddling_regime_transmon\n",
      "INFO 03:23PM [connect]: \tOpened active design\n",
      "\tDesign:    3. wigner_qubit [Solution type: Eigenmode]\n",
      "INFO 03:23PM [get_setup]: \tOpened setup `Modes`  (<class 'pyEPR.ansys.HfssEMSetup'>)\n",
      "INFO 03:23PM [connect]: \tConnection to Ansys established successfully. 😀 \n",
      "\n"
     ]
    }
   ],
   "source": [
    "path_to_project = r'Z:\\akshay_koottandavida\\3. Pair-Coherent States\\HFSS\\pcs_straddling_regime'\n",
    "pinfo = epr.ProjectInfo(project_path = path_to_project, \n",
    "                         project_name = 'straddling_regime_transmon',\n",
    "                         design_name  = '3. wigner_qubit')"
   ]
  },
  {
   "cell_type": "markdown",
   "metadata": {},
   "source": [
    "### Design details : Solution Type, object names, Analysis setup names, mesh statistic and convergence"
   ]
  },
  {
   "cell_type": "code",
   "execution_count": 108,
   "metadata": {
    "scrolled": false
   },
   "outputs": [
    {
     "name": "stdout",
     "output_type": "stream",
     "text": [
      "\n",
      " Solution type :  Eigenmode\n",
      "\n",
      " Analysis names :  ('Modes',)\n",
      "\n",
      " No. of modes solved for :  4\n",
      "\n",
      " Mesh statistics & Convergence :\n"
     ]
    },
    {
     "data": {
      "text/html": [
       "<div>\n",
       "<style scoped>\n",
       "    .dataframe tbody tr th:only-of-type {\n",
       "        vertical-align: middle;\n",
       "    }\n",
       "\n",
       "    .dataframe tbody tr th {\n",
       "        vertical-align: top;\n",
       "    }\n",
       "\n",
       "    .dataframe thead th {\n",
       "        text-align: right;\n",
       "    }\n",
       "</style>\n",
       "<table border=\"1\" class=\"dataframe\">\n",
       "  <thead>\n",
       "    <tr style=\"text-align: right;\">\n",
       "      <th></th>\n",
       "      <th>Unnamed: 0</th>\n",
       "      <th>Num Tets</th>\n",
       "      <th>Min edge length</th>\n",
       "      <th>Max edge length</th>\n",
       "      <th>RMS edge length</th>\n",
       "      <th>Min tet vol</th>\n",
       "      <th>Max tet vol</th>\n",
       "      <th>Mean tet vol</th>\n",
       "      <th>Std Devn (vol)</th>\n",
       "    </tr>\n",
       "  </thead>\n",
       "  <tbody>\n",
       "    <tr>\n",
       "      <th>0</th>\n",
       "      <td>storage_cav</td>\n",
       "      <td>148374</td>\n",
       "      <td>0.001681</td>\n",
       "      <td>6.99140</td>\n",
       "      <td>0.656338</td>\n",
       "      <td>2.655250e-10</td>\n",
       "      <td>14.240800</td>\n",
       "      <td>0.027818</td>\n",
       "      <td>0.262021</td>\n",
       "    </tr>\n",
       "    <tr>\n",
       "      <th>1</th>\n",
       "      <td>wigner_chip</td>\n",
       "      <td>115781</td>\n",
       "      <td>0.001543</td>\n",
       "      <td>2.86683</td>\n",
       "      <td>0.103068</td>\n",
       "      <td>1.307190e-10</td>\n",
       "      <td>0.348790</td>\n",
       "      <td>0.000172</td>\n",
       "      <td>0.002378</td>\n",
       "    </tr>\n",
       "    <tr>\n",
       "      <th>2</th>\n",
       "      <td>qubit_chip</td>\n",
       "      <td>125</td>\n",
       "      <td>0.654151</td>\n",
       "      <td>4.85642</td>\n",
       "      <td>2.079070</td>\n",
       "      <td>7.514730e-03</td>\n",
       "      <td>0.696087</td>\n",
       "      <td>0.158859</td>\n",
       "      <td>0.143011</td>\n",
       "    </tr>\n",
       "    <tr>\n",
       "      <th>3</th>\n",
       "      <td>teflon_cap_wigner_top</td>\n",
       "      <td>313</td>\n",
       "      <td>0.634891</td>\n",
       "      <td>3.19580</td>\n",
       "      <td>1.879620</td>\n",
       "      <td>5.064500e-03</td>\n",
       "      <td>0.546925</td>\n",
       "      <td>0.113480</td>\n",
       "      <td>0.108952</td>\n",
       "    </tr>\n",
       "    <tr>\n",
       "      <th>4</th>\n",
       "      <td>teflon_cap_qubit_top</td>\n",
       "      <td>352</td>\n",
       "      <td>0.494116</td>\n",
       "      <td>3.21390</td>\n",
       "      <td>1.807980</td>\n",
       "      <td>1.573040e-03</td>\n",
       "      <td>0.467813</td>\n",
       "      <td>0.100907</td>\n",
       "      <td>0.090662</td>\n",
       "    </tr>\n",
       "    <tr>\n",
       "      <th>5</th>\n",
       "      <td>teflon_cap_wigner_side</td>\n",
       "      <td>413</td>\n",
       "      <td>0.630732</td>\n",
       "      <td>3.10029</td>\n",
       "      <td>1.631610</td>\n",
       "      <td>5.146510e-03</td>\n",
       "      <td>0.558712</td>\n",
       "      <td>0.086003</td>\n",
       "      <td>0.089748</td>\n",
       "    </tr>\n",
       "    <tr>\n",
       "      <th>6</th>\n",
       "      <td>teflon_cap_qubit_side</td>\n",
       "      <td>418</td>\n",
       "      <td>0.572445</td>\n",
       "      <td>3.03995</td>\n",
       "      <td>1.596220</td>\n",
       "      <td>3.906640e-03</td>\n",
       "      <td>0.464549</td>\n",
       "      <td>0.084974</td>\n",
       "      <td>0.079047</td>\n",
       "    </tr>\n",
       "    <tr>\n",
       "      <th>7</th>\n",
       "      <td>wigner_top_coupler</td>\n",
       "      <td>355</td>\n",
       "      <td>0.439253</td>\n",
       "      <td>2.48172</td>\n",
       "      <td>1.180290</td>\n",
       "      <td>6.358780e-04</td>\n",
       "      <td>0.065318</td>\n",
       "      <td>0.015828</td>\n",
       "      <td>0.012470</td>\n",
       "    </tr>\n",
       "    <tr>\n",
       "      <th>8</th>\n",
       "      <td>qubit_top_coupler</td>\n",
       "      <td>191</td>\n",
       "      <td>0.388566</td>\n",
       "      <td>2.99720</td>\n",
       "      <td>1.074090</td>\n",
       "      <td>7.739430e-04</td>\n",
       "      <td>0.115359</td>\n",
       "      <td>0.012608</td>\n",
       "      <td>0.015860</td>\n",
       "    </tr>\n",
       "    <tr>\n",
       "      <th>9</th>\n",
       "      <td>qubit_side_coupler</td>\n",
       "      <td>204</td>\n",
       "      <td>0.493067</td>\n",
       "      <td>1.75490</td>\n",
       "      <td>0.974090</td>\n",
       "      <td>7.164660e-04</td>\n",
       "      <td>0.064568</td>\n",
       "      <td>0.011608</td>\n",
       "      <td>0.012268</td>\n",
       "    </tr>\n",
       "    <tr>\n",
       "      <th>10</th>\n",
       "      <td>wigner_side_coupler</td>\n",
       "      <td>207</td>\n",
       "      <td>0.393363</td>\n",
       "      <td>1.74200</td>\n",
       "      <td>0.951842</td>\n",
       "      <td>4.627320e-04</td>\n",
       "      <td>0.063173</td>\n",
       "      <td>0.011439</td>\n",
       "      <td>0.011188</td>\n",
       "    </tr>\n",
       "    <tr>\n",
       "      <th>11</th>\n",
       "      <td>teflon_cap_storage</td>\n",
       "      <td>375</td>\n",
       "      <td>0.580520</td>\n",
       "      <td>3.11652</td>\n",
       "      <td>1.757310</td>\n",
       "      <td>2.217130e-03</td>\n",
       "      <td>0.644215</td>\n",
       "      <td>0.094718</td>\n",
       "      <td>0.099227</td>\n",
       "    </tr>\n",
       "    <tr>\n",
       "      <th>12</th>\n",
       "      <td>storage_coupler</td>\n",
       "      <td>178</td>\n",
       "      <td>0.388806</td>\n",
       "      <td>2.08517</td>\n",
       "      <td>1.083700</td>\n",
       "      <td>4.837610e-04</td>\n",
       "      <td>0.106429</td>\n",
       "      <td>0.013303</td>\n",
       "      <td>0.015463</td>\n",
       "    </tr>\n",
       "  </tbody>\n",
       "</table>\n",
       "</div>"
      ],
      "text/plain": [
       "                 Unnamed: 0  Num Tets    Min edge length    Max edge length    \\\n",
       "0              storage_cav       148374           0.001681            6.99140   \n",
       "1              wigner_chip       115781           0.001543            2.86683   \n",
       "2               qubit_chip          125           0.654151            4.85642   \n",
       "3    teflon_cap_wigner_top          313           0.634891            3.19580   \n",
       "4     teflon_cap_qubit_top          352           0.494116            3.21390   \n",
       "5   teflon_cap_wigner_side          413           0.630732            3.10029   \n",
       "6    teflon_cap_qubit_side          418           0.572445            3.03995   \n",
       "7       wigner_top_coupler          355           0.439253            2.48172   \n",
       "8        qubit_top_coupler          191           0.388566            2.99720   \n",
       "9       qubit_side_coupler          204           0.493067            1.75490   \n",
       "10     wigner_side_coupler          207           0.393363            1.74200   \n",
       "11      teflon_cap_storage          375           0.580520            3.11652   \n",
       "12         storage_coupler          178           0.388806            2.08517   \n",
       "\n",
       "    RMS edge length    Min tet vol    Max tet vol    Mean tet vol    \\\n",
       "0            0.656338   2.655250e-10      14.240800        0.027818   \n",
       "1            0.103068   1.307190e-10       0.348790        0.000172   \n",
       "2            2.079070   7.514730e-03       0.696087        0.158859   \n",
       "3            1.879620   5.064500e-03       0.546925        0.113480   \n",
       "4            1.807980   1.573040e-03       0.467813        0.100907   \n",
       "5            1.631610   5.146510e-03       0.558712        0.086003   \n",
       "6            1.596220   3.906640e-03       0.464549        0.084974   \n",
       "7            1.180290   6.358780e-04       0.065318        0.015828   \n",
       "8            1.074090   7.739430e-04       0.115359        0.012608   \n",
       "9            0.974090   7.164660e-04       0.064568        0.011608   \n",
       "10           0.951842   4.627320e-04       0.063173        0.011439   \n",
       "11           1.757310   2.217130e-03       0.644215        0.094718   \n",
       "12           1.083700   4.837610e-04       0.106429        0.013303   \n",
       "\n",
       "    Std Devn (vol)    \n",
       "0           0.262021  \n",
       "1           0.002378  \n",
       "2           0.143011  \n",
       "3           0.108952  \n",
       "4           0.090662  \n",
       "5           0.089748  \n",
       "6           0.079047  \n",
       "7           0.012470  \n",
       "8           0.015860  \n",
       "9           0.012268  \n",
       "10          0.011188  \n",
       "11          0.099227  \n",
       "12          0.015463  "
      ]
     },
     "execution_count": 108,
     "metadata": {},
     "output_type": "execute_result"
    }
   ],
   "source": [
    "print(\"\\n Solution type : \",pinfo.design.solution_type)\n",
    "#print(pinfo.get_all_object_names())\n",
    "print(\"\\n Analysis names : \",pinfo.design.get_setup_names())\n",
    "print(\"\\n No. of modes solved for : \",pinfo.setup.n_modes)\n",
    "print(\"\\n Mesh statistics & Convergence :\")\n",
    "pinfo.setup.get_mesh_stats()"
   ]
  },
  {
   "cell_type": "markdown",
   "metadata": {},
   "source": [
    "## Define josephson junctions"
   ]
  },
  {
   "cell_type": "code",
   "execution_count": 109,
   "metadata": {},
   "outputs": [],
   "source": [
    "pinfo.junctions['j1'] = {'Lj_variable' : 'LJ_wig', \n",
    "                         'rect'        : 'wigner_qubit', \n",
    "                         'line'        : 'Polyline1', \n",
    "                         'length'      : epr.parse_units('300um')}\n",
    "\n",
    "# Check that valid names of variables and objects have been supplied.\n",
    "# An error is raised with a message if something is wrong.\n",
    "pinfo.validate_junction_info()  "
   ]
  },
  {
   "cell_type": "markdown",
   "metadata": {},
   "source": [
    "## <div style=\"background:yellow;line-height:2em;\">Microwave Analysis: Run analysis on an eigenmode solution  <div>"
   ]
  },
  {
   "cell_type": "code",
   "execution_count": 110,
   "metadata": {
    "scrolled": true
   },
   "outputs": [
    {
     "name": "stdout",
     "output_type": "stream",
     "text": [
      "Design \"3. wigner_qubit\" info:\n",
      "\t# eigenmodes    4\n",
      "\t# variations    1\n"
     ]
    },
    {
     "data": {
      "text/html": [
       "<div>\n",
       "<style scoped>\n",
       "    .dataframe tbody tr th:only-of-type {\n",
       "        vertical-align: middle;\n",
       "    }\n",
       "\n",
       "    .dataframe tbody tr th {\n",
       "        vertical-align: top;\n",
       "    }\n",
       "\n",
       "    .dataframe thead th {\n",
       "        text-align: right;\n",
       "    }\n",
       "</style>\n",
       "<table border=\"1\" class=\"dataframe\">\n",
       "  <thead>\n",
       "    <tr style=\"text-align: right;\">\n",
       "      <th></th>\n",
       "      <th></th>\n",
       "      <th>Freq. (GHz)</th>\n",
       "      <th>Quality Factor</th>\n",
       "    </tr>\n",
       "    <tr>\n",
       "      <th>variation</th>\n",
       "      <th>mode</th>\n",
       "      <th></th>\n",
       "      <th></th>\n",
       "    </tr>\n",
       "  </thead>\n",
       "  <tbody>\n",
       "    <tr>\n",
       "      <th rowspan=\"4\" valign=\"top\">0</th>\n",
       "      <th>0</th>\n",
       "      <td>4.903932</td>\n",
       "      <td>8.277346e+07</td>\n",
       "    </tr>\n",
       "    <tr>\n",
       "      <th>1</th>\n",
       "      <td>6.109115</td>\n",
       "      <td>1.932258e+09</td>\n",
       "    </tr>\n",
       "    <tr>\n",
       "      <th>2</th>\n",
       "      <td>6.317998</td>\n",
       "      <td>4.326367e+09</td>\n",
       "    </tr>\n",
       "    <tr>\n",
       "      <th>3</th>\n",
       "      <td>8.420423</td>\n",
       "      <td>4.076997e+04</td>\n",
       "    </tr>\n",
       "  </tbody>\n",
       "</table>\n",
       "</div>"
      ],
      "text/plain": [
       "                Freq. (GHz)  Quality Factor\n",
       "variation mode                             \n",
       "0         0        4.903932    8.277346e+07\n",
       "          1        6.109115    1.932258e+09\n",
       "          2        6.317998    4.326367e+09\n",
       "          3        8.420423    4.076997e+04"
      ]
     },
     "execution_count": 110,
     "metadata": {},
     "output_type": "execute_result"
    }
   ],
   "source": [
    "eprh = epr.DistributedAnalysis(pinfo)\n",
    "# eprh.get_ansys_variables()            # Prints all the variables in the design\n",
    "num_var = len(eprh.get_variations())    # stores the number of variations\n",
    "eprh.get_ansys_frequencies_all()\n",
    "# eprh.hfss_report_full_convergence();  # Shows convergence report"
   ]
  },
  {
   "cell_type": "markdown",
   "metadata": {},
   "source": [
    "#### Run full analysis"
   ]
  },
  {
   "cell_type": "code",
   "execution_count": 111,
   "metadata": {
    "scrolled": true
   },
   "outputs": [
    {
     "name": "stdout",
     "output_type": "stream",
     "text": [
      "\n",
      "Variation 0  [1/1]\n",
      "\n",
      "  \u001b[1mMode 0 at 4.90 GHz   [1/4]\u001b[0m\n",
      "    Calculating ℰ_magnetic,ℰ_electric\n"
     ]
    },
    {
     "name": "stderr",
     "output_type": "stream",
     "text": [
      "DEBUG 03:24PM [calc_p_junction]: Calculating participations for ('j1', {'Lj_variable': 'LJ_wig', 'rect': 'wigner_qubit', 'line': 'Polyline1', 'length': 0.0003})\n"
     ]
    },
    {
     "name": "stdout",
     "output_type": "stream",
     "text": [
      "       (ℰ_E-ℰ_H)/ℰ_E       ℰ_E       ℰ_H\n",
      "               97.6%      1.953   0.04759\n",
      "\n",
      "    Calculating junction energy participation ration (EPR)\n",
      "\tmethod=`line_voltage`. First estimates:\n",
      "\tjunction        EPR p_0j   sign s_0j    (p_capacitive)\n",
      "\t\tEnergy fraction (Lj over Lj&Cj)= 97.23%\n",
      "\tj1               0.97324  (+)        0.0277198\n",
      "\t\t(U_tot_cap-U_tot_ind)/mean=1.49%\n",
      "\n",
      "  \u001b[1mMode 1 at 6.11 GHz   [2/4]\u001b[0m\n",
      "    Calculating ℰ_magnetic,ℰ_electric\n"
     ]
    },
    {
     "name": "stderr",
     "output_type": "stream",
     "text": [
      "DEBUG 03:24PM [calc_p_junction]: Calculating participations for ('j1', {'Lj_variable': 'LJ_wig', 'rect': 'wigner_qubit', 'line': 'Polyline1', 'length': 0.0003})\n"
     ]
    },
    {
     "name": "stdout",
     "output_type": "stream",
     "text": [
      "       (ℰ_E-ℰ_H)/ℰ_E       ℰ_E       ℰ_H\n",
      "                0.1%          1    0.9993\n",
      "\n",
      "    Calculating junction energy participation ration (EPR)\n",
      "\tmethod=`line_voltage`. First estimates:\n",
      "\tjunction        EPR p_1j   sign s_1j    (p_capacitive)\n",
      "\t\tEnergy fraction (Lj over Lj&Cj)= 95.77%\n",
      "\tj1              8.94207e-05  (+)        3.95253e-06\n",
      "\t\t(U_tot_cap-U_tot_ind)/mean=0.04%\n",
      "\n",
      "  \u001b[1mMode 2 at 6.32 GHz   [3/4]\u001b[0m\n",
      "    Calculating ℰ_magnetic,ℰ_electric\n"
     ]
    },
    {
     "name": "stderr",
     "output_type": "stream",
     "text": [
      "DEBUG 03:24PM [calc_p_junction]: Calculating participations for ('j1', {'Lj_variable': 'LJ_wig', 'rect': 'wigner_qubit', 'line': 'Polyline1', 'length': 0.0003})\n"
     ]
    },
    {
     "name": "stdout",
     "output_type": "stream",
     "text": [
      "       (ℰ_E-ℰ_H)/ℰ_E       ℰ_E       ℰ_H\n",
      "                0.1%          1    0.9993\n",
      "\n",
      "    Calculating junction energy participation ration (EPR)\n",
      "\tmethod=`line_voltage`. First estimates:\n",
      "\tjunction        EPR p_2j   sign s_2j    (p_capacitive)\n",
      "\t\tEnergy fraction (Lj over Lj&Cj)= 95.49%\n",
      "\tj1              4.7779e-05  (+)        2.2588e-06\n",
      "\t\t(U_tot_cap-U_tot_ind)/mean=0.04%\n",
      "\n",
      "  \u001b[1mMode 3 at 8.42 GHz   [4/4]\u001b[0m\n",
      "    Calculating ℰ_magnetic,ℰ_electric\n"
     ]
    },
    {
     "name": "stderr",
     "output_type": "stream",
     "text": [
      "DEBUG 03:25PM [calc_p_junction]: Calculating participations for ('j1', {'Lj_variable': 'LJ_wig', 'rect': 'wigner_qubit', 'line': 'Polyline1', 'length': 0.0003})\n"
     ]
    },
    {
     "name": "stdout",
     "output_type": "stream",
     "text": [
      "       (ℰ_E-ℰ_H)/ℰ_E       ℰ_E       ℰ_H\n",
      "                2.7%          1    0.9737\n",
      "\n",
      "    Calculating junction energy participation ration (EPR)\n",
      "\tmethod=`line_voltage`. First estimates:\n",
      "\tjunction        EPR p_3j   sign s_3j    (p_capacitive)\n",
      "\t\tEnergy fraction (Lj over Lj&Cj)= 92.25%\n",
      "\tj1              0.000730947  (+)        6.13811e-05\n",
      "\t\t(U_tot_cap-U_tot_ind)/mean=1.32%\n",
      "\n",
      "ANALYSIS DONE. Data saved to:\n",
      "\n",
      "Z:\\akshay_koottandavida\\Code\\pyEPR\\data-pyEPR\\straddling_regime_transmon\\3. wigner_qubit\\2020-03-17 15-24-12.npz\n",
      "\n",
      "\n"
     ]
    }
   ],
   "source": [
    "eprh.do_EPR_analysis();"
   ]
  },
  {
   "cell_type": "markdown",
   "metadata": {},
   "source": [
    "## <div style=\"background:yellow;line-height:2em;\"> Quantum Hamiltonian Analysis: <div>"
   ]
  },
  {
   "cell_type": "markdown",
   "metadata": {},
   "source": [
    "## <div style=\"background:#BBFABB;line-height:2em;\"> Finding $\\chi$ with the e-level of the transmon"
   ]
  },
  {
   "cell_type": "markdown",
   "metadata": {},
   "source": [
    "Assume a harmonic oscillator dispersively coupled to a transmon. The hamiltonian will look something like this :\n",
    "\n",
    "$ H/\\hbar= \\omega_a a^\\dagger a + \\omega_q q^\\dagger q + \\frac{\\alpha}{2}q^\\dagger q^\\dagger q q -\\chi a^\\dagger a q^\\dagger q$\n",
    "\n",
    "This is a purely diagonal hamiltonian $H_{mat}$ in the fock number basis, with diagonal elements $\\{v_1, v_2,v_3,...\\}$. BBQ assumes the following hamiltonian\n",
    "\n",
    "$ H_e/\\hbar= \\omega_a a^\\dagger a + \\omega_q q^\\dagger q + \\frac{\\alpha}{2}q^\\dagger q^\\dagger q q -\\chi_{e}a^\\dagger a |e><e|$\n",
    "\n",
    "\n",
    "To extract $\\{\\omega_a, \\omega_q, \\alpha, \\chi_e\\}$, BBQ follows the followingn protocol :\n",
    "\n",
    "Step 1 : Find the bare frequencies.\n",
    "\n",
    "Diagonalise $H_{mat}$ and find he eigenvalues :  $\\{v_1, v_2,v_3,...\\}$ and eignevenctors (usually, just the simplest basis vectors). Next, find the expectation values of the states with one photon in each state. The states are (1,0,0,0...) for the modes\n",
    "\n",
    "$<1,g|H|1,g> = \\omega_a$\n",
    "\n",
    "$<0,e|H|0,e> = \\omega_q$\n",
    "\n",
    "Step 2 : Find $\\chi$ & $\\alpha$\n",
    "\n",
    "To find $\\chi$, put one photon each in cavity and transmon and find energies : $<1,e|H|1,e> = \\omega_a + \\omega_q - \\chi_e$\n",
    "\n",
    "So $\\chi_e= <1,e|H|1,e> - (\\omega_a + \\omega_q)$\n",
    "\n",
    "To find $\\alpha$, put two photons in the transmon : $<0,f|H|0,f> = \\alpha$"
   ]
  },
  {
   "cell_type": "markdown",
   "metadata": {},
   "source": [
    "## <div style=\"background:cyan;line-height:2em;\"> Notation : $\\chi$ is defined to be negative. If $\\chi$ is +ve, then we are in straddling regime. <div>"
   ]
  },
  {
   "cell_type": "markdown",
   "metadata": {},
   "source": [
    "### Modifications to the code"
   ]
  },
  {
   "cell_type": "code",
   "execution_count": 93,
   "metadata": {
    "scrolled": true
   },
   "outputs": [
    {
     "name": "stderr",
     "output_type": "stream",
     "text": [
      "WARNING 09:39PM [__init__]: <p>Error: <class 'IndexError'></p>\n",
      "DEBUG 09:39PM [get_epr_base_matrices]: PJ=\n",
      "DEBUG 09:39PM [get_epr_base_matrices]: [[9.83230469e-01]\n",
      " [1.27938656e-04]\n",
      " [5.91299452e-05]\n",
      " [5.96927023e-04]]\n",
      "DEBUG 09:39PM [get_epr_base_matrices]: SJ=\n",
      "DEBUG 09:39PM [get_epr_base_matrices]: [[1]\n",
      " [1]\n",
      " [1]\n",
      " [1]]\n",
      "DEBUG 09:39PM [get_epr_base_matrices]: Om=\n",
      "DEBUG 09:39PM [get_epr_base_matrices]: [[5.29676183 0.         0.         0.        ]\n",
      " [0.         6.11006387 0.         0.        ]\n",
      " [0.         0.         6.31941708 0.        ]\n",
      " [0.         0.         0.         8.41994112]]\n",
      "DEBUG 09:39PM [get_epr_base_matrices]: EJ=\n",
      "DEBUG 09:39PM [get_epr_base_matrices]: [[10.89743419]]\n"
     ]
    },
    {
     "name": "stdout",
     "output_type": "stream",
     "text": [
      "\t Differences in variations:\n",
      "\n",
      "\n",
      "\n",
      " . . . . . . . . . . . . . . . . . . . . . . . . . . . . . . . . . . . . . . . . \n",
      "Variation 0\n",
      "\n",
      "Starting the diagonalization\n",
      "Finished the diagonalization\n",
      "{0: 2, 1: 0, 2: 0, 3: 0}\n",
      "{0: 2, 1: 0, 2: 0, 3: 0}\n",
      "{0: 2, 1: 0, 2: 0, 3: 0}\n",
      "Pm_norm=\n",
      "modes\n",
      "0     1.034916\n",
      "1     4.670784\n",
      "2     8.944611\n",
      "3    16.419849\n",
      "dtype: float64\n",
      "\n",
      "Pm_norm idx =\n",
      "      j1\n",
      "0   True\n",
      "1  False\n",
      "2  False\n",
      "3  False\n",
      "*** P (participation matrix, not normlz.)\n",
      "         j1\n",
      "0  0.950059\n",
      "1  0.000128\n",
      "2  0.000059\n",
      "3  0.000597\n",
      "\n",
      "*** S (sign-bit matrix)\n",
      "   s_j1\n",
      "0     1\n",
      "1     1\n",
      "2     1\n",
      "3     1\n",
      "*** P (participation matrix, normalized.)\n",
      "      0.98\n",
      "   0.00013\n",
      "   5.9e-05\n",
      "    0.0006\n",
      "\n",
      "*** Chi matrix O1 PT (MHz)\n",
      "    Diag is anharmonicity, off diag is full cross-Kerr.\n",
      "       311   0.0934   0.0446      0.6\n",
      "    0.0934 7.01e-06  6.7e-06 9.01e-05\n",
      "    0.0446  6.7e-06  1.6e-06 4.31e-05\n",
      "       0.6 9.01e-05 4.31e-05  0.00029\n",
      "\n",
      "*** Chi matrix ND (MHz) \n",
      "      -354  -0.0419  -0.0235    -0.52\n",
      "   -0.0419 -1.8e-06-1.96e-06-4.03e-05\n",
      "   -0.0235-1.96e-06-5.35e-07-2.18e-05\n",
      "     -0.52-4.03e-05-2.18e-05-0.000216\n",
      "\n",
      "*** Frequencies O1 PT (MHz)\n",
      "0    4985.280172\n",
      "1    6110.017119\n",
      "2    6319.394730\n",
      "3    8419.640513\n",
      "dtype: float64\n",
      "\n",
      "*** Frequencies ND (MHz)\n",
      "0    4964.406735\n",
      "1    6110.028420\n",
      "2    6319.399064\n",
      "3    8419.649549\n",
      "dtype: float64\n",
      "\n",
      "*** Q_coupling\n",
      "Empty DataFrame\n",
      "Columns: []\n",
      "Index: [0, 1, 2, 3]\n"
     ]
    },
    {
     "data": {
      "text/plain": [
       "OrderedDict([('0', OrderedDict([('f_0', 0    5296.761830\n",
       "                            1    6110.063872\n",
       "                            2    6319.417079\n",
       "                            3    8419.941119\n",
       "                            Name: 0, dtype: float64), ('f_1', 0    4985.280172\n",
       "                            1    6110.017119\n",
       "                            2    6319.394730\n",
       "                            3    8419.640513\n",
       "                            dtype: float64), ('f_ND', 0    4964.406735\n",
       "                            1    6110.028420\n",
       "                            2    6319.399064\n",
       "                            3    8419.649549\n",
       "                            dtype: float64), ('chi_O1',\n",
       "                                        0         1         2         3\n",
       "                            0  311.112389  0.093396  0.044644  0.600498\n",
       "                            1    0.093396  0.000007  0.000007  0.000090\n",
       "                            2    0.044644  0.000007  0.000002  0.000043\n",
       "                            3    0.600498  0.000090  0.000043  0.000290), ('chi_ND',\n",
       "                                        0         1             2         3\n",
       "                            0 -353.639396 -0.041902 -2.347651e-02 -0.519960\n",
       "                            1   -0.041902 -0.000002 -1.961361e-06 -0.000040\n",
       "                            2   -0.023477 -0.000002 -5.346069e-07 -0.000022\n",
       "                            3   -0.519960 -0.000040 -2.180950e-05 -0.000216), ('ZPF',\n",
       "                            array([[0.48882765],\n",
       "                                   [0.00598889],\n",
       "                                   [0.00414062],\n",
       "                                   [0.01518581]])), ('Pm_normed',\n",
       "                            array([[9.83230469e-01],\n",
       "                                   [1.27938656e-04],\n",
       "                                   [5.91299452e-05],\n",
       "                                   [5.96927023e-04]])), ('Pm_raw',          j1\n",
       "                            0  0.950059\n",
       "                            1  0.000128\n",
       "                            2  0.000059\n",
       "                            3  0.000597), ('Pm_cap', array([[3.15683768e-02],\n",
       "                                   [5.65684498e-06],\n",
       "                                   [2.79667826e-06],\n",
       "                                   [5.01210707e-05]])), ('_Pm_norm', modes\n",
       "                            0     1.034916\n",
       "                            1     4.670784\n",
       "                            2     8.944611\n",
       "                            3    16.419849\n",
       "                            dtype: float64), ('_Pm_cap_norm', modes\n",
       "                            0      0.478157\n",
       "                            1     82.009608\n",
       "                            2    166.961883\n",
       "                            3    182.527052\n",
       "                            dtype: float64), ('chi_ef',\n",
       "                            array([-0.0617033 , -0.03651503, -0.95369527])), ('f_gf',\n",
       "                            array([9.57517407e+09])), ('hfss_variables',\n",
       "                            _$excursion_pp              0.5mm\n",
       "                            _$l_pp_straight_close       0.9mm\n",
       "                            _$l_pp_straight_far         0.9mm\n",
       "                            _$pitch_pp                  0.9mm\n",
       "                            _$pp_wigle_n                    3\n",
       "                            _$w_pp                      200um\n",
       "                            _chip_ht                   0.43mm\n",
       "                            _chip_x_len                   2mm\n",
       "                            _chip_y_len               23.09mm\n",
       "                            _coup_tun_len               0.2in\n",
       "                            _coup_tun_rad              0.06in\n",
       "                            _coupler_hole_len           0.2in\n",
       "                            _coupler_hole_rad          0.06in\n",
       "                            _dist                       0.1in\n",
       "                            _large_flux_xpos                0\n",
       "                            _len                      0.205in\n",
       "                            _LJ_qubit                     5nH\n",
       "                            _LJ_wig                      15nH\n",
       "                            _post_ht1                  0.42in\n",
       "                            _post_ht2                  0.42in\n",
       "                            _post_rad                  0.04in\n",
       "                            _qubit_l                    0.2mm\n",
       "                            _qubit_pad_l                1.6mm\n",
       "                            _qubit_pad_w                1.2mm\n",
       "                            _qubit_reso_len              11mm\n",
       "                            _qubit_reso_pos             0.2mm\n",
       "                            _qubit_side_coup_len      0.118in\n",
       "                            _qubit_side_coup_pos       6.58mm\n",
       "                            _qubit_top_coup_len        0.12in\n",
       "                            _qubit_top_coup_pos      15.216mm\n",
       "                                                       ...   \n",
       "                            _qubit_x_len                  0mm\n",
       "                            _qubit_y_len                  0mm\n",
       "                            _qubit_ypos                   0mm\n",
       "                            _semi_circ_rad            0.165in\n",
       "                            _storage_cav_ht             1.5in\n",
       "                            _storage_coup_len         0.118in\n",
       "                            _tiny_flux_xpos               0mm\n",
       "                            _wig_coup1_len            0.118in\n",
       "                            _wig_coup_1_pos             0.4in\n",
       "                            _wig_qubit_cen              2.5mm\n",
       "                            _wig_qubit_l                0.2mm\n",
       "                            _wig_qubit_w              0.025mm\n",
       "                            _wig_qubit_ypos               0mm\n",
       "                            _wig_reso_len                10mm\n",
       "                            _wig_side_coup_len        0.118in\n",
       "                            _wig_side_coup_pos         6.58mm\n",
       "                            _wig_top_coup_len          0.28in\n",
       "                            _wig_top_coup_pos        15.216mm\n",
       "                            _wig_tun_overlap            1.5mm\n",
       "                            _wign_chip_tun_len         0.85in\n",
       "                            _wign_chip_tun_rad       0.0625in\n",
       "                            _wigner_pad1_l                0mm\n",
       "                            _wigner_pad1_w                0mm\n",
       "                            _wigner_pad1_xpos               0\n",
       "                            _wigner_pad1_ypos             0mm\n",
       "                            _wigner_pad2_xpos               0\n",
       "                            _wigner_pad2_ypos             0mm\n",
       "                            _wigner_pad_l               0.4mm\n",
       "                            _wigner_pad_w               0.4mm\n",
       "                            _wigner_reso_pos            1.5mm\n",
       "                            Name: 0, Length: 61, dtype: object), ('Ljs',\n",
       "                            j1    1.500000e-08\n",
       "                            Name: 0, dtype: float64), ('Cjs',\n",
       "                            j1    2.000000e-15\n",
       "                            Name: 0, dtype: float64), ('Q_coupling',\n",
       "                            Empty DataFrame\n",
       "                            Columns: []\n",
       "                            Index: [0, 1, 2, 3]), ('Qs', 0    1.187651e+08\n",
       "                            1    9.445514e+07\n",
       "                            2    2.465127e+08\n",
       "                            3    4.827785e+04\n",
       "                            Name: 0, dtype: float64), ('fock_trunc',\n",
       "                            7), ('cos_trunc', 6)]))])"
      ]
     },
     "execution_count": 93,
     "metadata": {},
     "output_type": "execute_result"
    }
   ],
   "source": [
    "# Load saved solutions from above\n",
    "epra = epr.QuantumAnalysis(eprh.data_filename)\n",
    "\n",
    "# Code is modified such that if 'return_ef = True', then chi_f is returned in the results. (Read next section)\n",
    "epra.analyze_all_variations(cos_trunc = 6, fock_trunc = 7, return_ef=True) "
   ]
  },
  {
   "cell_type": "code",
   "execution_count": 65,
   "metadata": {
    "scrolled": true
   },
   "outputs": [
    {
     "data": {
      "text/plain": [
       "0"
      ]
     },
     "execution_count": 65,
     "metadata": {},
     "output_type": "execute_result"
    }
   ],
   "source": [
    "# find the qubit\n",
    "if num_var==1 :\n",
    "    alphas = np.array([np.absolute(epra.get_chis(variations=['0'],numeric=True)[i][i]) for i in range(int(pinfo.setup.n_modes))])\n",
    "    qubit_index = np.where(alphas == np.amax(alphas))[0][0]\n",
    "qubit_index"
   ]
  },
  {
   "cell_type": "code",
   "execution_count": 95,
   "metadata": {
    "scrolled": true
   },
   "outputs": [
    {
     "name": "stdout",
     "output_type": "stream",
     "text": [
      "L_j =  15.000 nH\n",
      "Alice freq. =  6.110 GHz\n",
      "Bob freq. =  6.319 GHz\n",
      "Qubit ge freq. =  4.964 GHz\n",
      "Qubit ef freq. =  4.611 GHz\n"
     ]
    }
   ],
   "source": [
    "#num_var = 51\n",
    "Ljs = np.array([epra.results[str(i)]['Ljs'][0] for i in range(num_var)])*1e9\n",
    "qubit_ge = np.array([epra.get_frequencies(numeric=True)[str(i)][qubit_index] for i in range(num_var)])*1e-3\n",
    "qubit_gf = np.array([epra.results[str(i)]['f_gf'] for i in range(num_var)])*1e-9\n",
    "qubit_ef = (qubit_gf - qubit_ge) \n",
    "\n",
    "alice_freq = np.array([epra.get_frequencies(numeric=True)[str(i)][1] for i in range(num_var)])*1e-3\n",
    "bob_freq = np.array([epra.get_frequencies(numeric=True)[str(i)][2] for i in range(num_var)])*1e-3\n",
    "\n",
    "if num_var==1 :\n",
    "    print('L_j =  %.3f' % Ljs[0],'nH')\n",
    "    print('Alice freq. =  %.3f' % alice_freq[0],'GHz')\n",
    "    print('Bob freq. =  %.3f' % bob_freq[0],'GHz')\n",
    "    print('Qubit ge freq. =  %.3f' % qubit_ge[0],'GHz')\n",
    "    print('Qubit ef freq. =  %.3f' % qubit_ef[0],'GHz')"
   ]
  },
  {
   "cell_type": "code",
   "execution_count": 104,
   "metadata": {
    "scrolled": false
   },
   "outputs": [
    {
     "name": "stdout",
     "output_type": "stream",
     "text": [
      "chi with alice = -0.042 MHz\n",
      "chi with bob =  -0.023 MHz\n"
     ]
    }
   ],
   "source": [
    "chi_e_a = np.array([epra.get_chis(variations=[str(i)],numeric=True)[1][qubit_index] for i in range(num_var)])\n",
    "chi_e_b = np.array([epra.get_chis(variations=[str(i)],numeric=True)[2][qubit_index] for i in range(num_var)])\n",
    "\n",
    "if num_var==1 :\n",
    "    print('chi with alice = %.3f' % chi_e_a[0],'MHz')\n",
    "    print('chi with bob =  %.3f'% chi_e_b[0],'MHz')"
   ]
  },
  {
   "cell_type": "code",
   "execution_count": 25,
   "metadata": {},
   "outputs": [],
   "source": [
    "if num_var > 1 :\n",
    "    fig, ax = plt.subplots(1,2,sharey=True,figsize=(15,5))\n",
    "    ax[0].plot(qubit_ge,chi_e_a,'bo',label='Alice')\n",
    "    ax[0].plot(qubit_ge,chi_e_b,'ro',label='Bob')\n",
    "    ax[0].set_xlabel('Qubit ge freq (GHz)')\n",
    "    ax[0].set_ylabel('Dispersive shift due to qubit being in e-state (MHz)')\n",
    "    ax[1].plot(Ljs,chi_e_a,'bo')\n",
    "    ax[1].plot(Ljs,chi_e_b,'ro')\n",
    "    ax[1].set_xlabel('Lj (nH)')\n",
    "    fig.legend()\n",
    "    plt.show()"
   ]
  },
  {
   "cell_type": "code",
   "execution_count": 26,
   "metadata": {},
   "outputs": [],
   "source": [
    "#fig.savefig('sample.pdf')"
   ]
  },
  {
   "cell_type": "markdown",
   "metadata": {},
   "source": [
    "## <div style=\"background:#BBFABB;line-height:2em;\"> Finding the point where $\\chi^{A}_e=-\\chi^{B}_e$"
   ]
  },
  {
   "cell_type": "code",
   "execution_count": 27,
   "metadata": {},
   "outputs": [],
   "source": [
    "if num_var > 1 :\n",
    "    # Sum the 2 arrays and find the element which is closest to 0. The index of this point should correspond to the \n",
    "    # frequency at which the chis are equal and opposite.\n",
    "    dif = chi_e_a+chi_e_b\n",
    "    closest_to_0 = dif.flat[np.abs(dif).argmin()]\n",
    "    matching_pt = np.where(dif==closest_to_0)[0][0]\n",
    "    print('chis are close to being equal and opposite at :')\n",
    "    print('')\n",
    "    print('transmon ge frequency :',qubit_ge[matching_pt],'GHz')\n",
    "    print('chi_e with alice =',chi_e_a[matching_pt],'MHz')\n",
    "    print('chi_e with bob =',chi_e_b[matching_pt],'MHz')"
   ]
  },
  {
   "cell_type": "markdown",
   "metadata": {},
   "source": [
    "## <div style=\"background:#BBFABB;line-height:2em;\"> Finding $\\chi$ with the f-level of the transmon"
   ]
  },
  {
   "cell_type": "markdown",
   "metadata": {},
   "source": [
    "We can include the f-level of the transmon in the effective hamiltonian : \n",
    "\n",
    "$ H_{ef}/\\hbar= \\omega_a a^\\dagger a + \\omega_q q^\\dagger q + \\frac{\\alpha}{2}q^\\dagger q^\\dagger q q -\\chi_{e}a^\\dagger a |e><e|-\\chi_{f}a^\\dagger a |f><f|$\n",
    "\n",
    "To find $\\chi_{f}$, put 2 photons in the transmon and 1 photon in the cavity.\n",
    "\n",
    " $<1,f|H|1,f> = \\omega_a + 2\\omega_q +\\alpha - 2\\chi$\n",
    " \n",
    " Now, $\\omega_{gf} = 2\\omega_q +\\alpha$ and we will call $\\chi_{f} = 2\\chi$"
   ]
  },
  {
   "cell_type": "code",
   "execution_count": 97,
   "metadata": {},
   "outputs": [
    {
     "name": "stdout",
     "output_type": "stream",
     "text": [
      "chi b/w alice & transmon f-level = -0.062 MHz\n",
      "chi b/w bob & transmon f-level =  -0.037 MHz\n"
     ]
    }
   ],
   "source": [
    "chi_f_a = np.array([epra.results[str(i)]['chi_ef'][0] for i in range(num_var)])\n",
    "chi_f_b = np.array([epra.results[str(i)]['chi_ef'][1] for i in range(num_var)])\n",
    "\n",
    "if num_var==1 :\n",
    "    print('chi b/w alice & transmon f-level = %.3f' % chi_f_a[0],'MHz')\n",
    "    print('chi b/w bob & transmon f-level =  %.3f'% chi_f_b[0],'MHz')"
   ]
  },
  {
   "cell_type": "code",
   "execution_count": 29,
   "metadata": {},
   "outputs": [],
   "source": [
    "if num_var > 1 :\n",
    "    fig, ax = plt.subplots(1,2,sharey=True,figsize=(15,5))\n",
    "    ax[0].plot(qubit_ge,chi_f_a,'bo',label='Alice')\n",
    "    ax[0].plot(qubit_ge,chi_f_b,'ro',label='Bob')\n",
    "    ax[0].set_xlabel('Qubit ge freq (GHz)')\n",
    "    ax[0].set_ylabel('Dispersive shift due to qubit being in f-state (MHz)')\n",
    "    ax[1].plot(Ljs,chi_f_a,'bo')\n",
    "    ax[1].plot(Ljs,chi_f_b,'ro')\n",
    "    ax[1].set_xlabel('Lj (nH)')\n",
    "    fig.legend()\n",
    "    plt.show()"
   ]
  },
  {
   "cell_type": "code",
   "execution_count": 30,
   "metadata": {},
   "outputs": [],
   "source": [
    "#fig.savefig('sample.pdf')"
   ]
  },
  {
   "cell_type": "markdown",
   "metadata": {},
   "source": [
    "Assuming $\\chi_{f} = \\chi_{e}+\\chi_{ef}$, plot $\\chi_{ef}$"
   ]
  },
  {
   "cell_type": "code",
   "execution_count": 98,
   "metadata": {
    "scrolled": true
   },
   "outputs": [
    {
     "name": "stdout",
     "output_type": "stream",
     "text": [
      "chi to alice only due to  ef transition = -0.020 MHz\n",
      "chi to bob only due to  ef transition =  -0.013 MHz\n"
     ]
    }
   ],
   "source": [
    "chi_ef_a = chi_f_a - chi_e_a\n",
    "chi_ef_b = chi_f_b - chi_e_b\n",
    "\n",
    "if num_var==1 :\n",
    "    print('chi to alice only due to  ef transition = %.3f' % chi_ef_a[0],'MHz')\n",
    "    print('chi to bob only due to  ef transition =  %.3f'% chi_ef_b[0],'MHz')"
   ]
  },
  {
   "cell_type": "code",
   "execution_count": 32,
   "metadata": {},
   "outputs": [],
   "source": [
    "if num_var > 1 :\n",
    "    fig, ax = plt.subplots(1,2,sharey=True,figsize=(15,5))\n",
    "    ax[0].plot(qubit_ge,chi_ef_a,'bo',label='Alice')\n",
    "    ax[0].plot(qubit_ge,chi_ef_b,'ro',label='Bob')\n",
    "    ax[0].set_xlabel('Qubit ge freq (GHz)')\n",
    "    ax[0].set_ylabel('Dispersive shift only due to qubit ef transition (MHz)')\n",
    "    ax[1].plot(Ljs,chi_ef_a,'bo')\n",
    "    ax[1].plot(Ljs,chi_ef_b,'ro')\n",
    "    ax[1].set_xlabel('Lj (nH)')\n",
    "    fig.legend()\n",
    "    plt.show()"
   ]
  },
  {
   "cell_type": "code",
   "execution_count": 33,
   "metadata": {},
   "outputs": [],
   "source": [
    "#fig.savefig('sample.pdf')"
   ]
  },
  {
   "cell_type": "markdown",
   "metadata": {},
   "source": [
    "## <div style=\"background:yellow;line-height:2em;\"> Joint parity protocol using f-level of the transmon<div>"
   ]
  },
  {
   "cell_type": "markdown",
   "metadata": {},
   "source": [
    "Ref : wang et al. (DOI: 10.1126/science.aaf2941) https://science.sciencemag.org/content/sci/352/6289/1087.full.pdf\n",
    "\n",
    "Supplementary Material : https://science.sciencemag.org/content/sci/suppl/2016/05/25/352.6289.1087.DC1/Wang-SM.pdf"
   ]
  },
  {
   "cell_type": "markdown",
   "metadata": {},
   "source": [
    "The question is whether we can use this sample to do joint parity measurement on both alice & bob for wigner tomography. To summarise the protocol, it basically boils down to engineering a unitary operator of the form :\n",
    "\n",
    "$U(t) = I_A \\otimes I_B \\otimes |g\\rangle \\langle g| + e^{i \\chi^{A}_e t a^{\\dagger}a}\\otimes e^{i \\chi^{B}_e t b^{\\dagger}b}\\otimes |e\\rangle \\langle e| + e^{i \\chi^{A}_f t a^{\\dagger}a}\\otimes e^{i \\chi^{B}_f t b^{\\dagger}b}\\otimes |f\\rangle \\langle f|$\n",
    "\n",
    "Next, by using $\\pi/2$ and $\\pi$ pulses in both the g-e and e-f bloch spheres and using 2 wait times $t_1$ and $t_2$, this unitary should become the joint parity operator under the following conditions :\n",
    "\n",
    "$\\chi^{A}_e t_1 + \\chi^{A}_f t_2 = \\pm \\pi$ \n",
    "\n",
    "$\\chi^{B}_e t_1 + \\chi^{B}_f t_2 = \\pm \\pi$"
   ]
  },
  {
   "cell_type": "code",
   "execution_count": 103,
   "metadata": {},
   "outputs": [
    {
     "name": "stdout",
     "output_type": "stream",
     "text": [
      "Wait times : t1 = -502.71 us ; t2 = 763.45 us\n"
     ]
    }
   ],
   "source": [
    "pt = 0 if num_var==1 else 30    # choose what freq. of the transmon to operate at, by choosing the index of the list\n",
    "\n",
    "chi_mat = np.array([[chi_e_a[pt], chi_e_b[pt]], [chi_f_a[pt], chi_f_b[pt]]])\n",
    "p = np.array([np.pi, np.pi])\n",
    "t1,t2 = np.linalg.inv(chi_mat).dot(p)  # Solve system of linear equations AX=b => X = inv(A).b\n",
    "\n",
    "print('Wait times : t1 = %.2f'%t1,'us ; t2 = %.2f'%t2,'us')"
   ]
  },
  {
   "cell_type": "code",
   "execution_count": null,
   "metadata": {},
   "outputs": [],
   "source": []
  }
 ],
 "metadata": {
  "kernelspec": {
   "display_name": "Python 3",
   "language": "python",
   "name": "python3"
  },
  "language_info": {
   "codemirror_mode": {
    "name": "ipython",
    "version": 3
   },
   "file_extension": ".py",
   "mimetype": "text/x-python",
   "name": "python",
   "nbconvert_exporter": "python",
   "pygments_lexer": "ipython3",
   "version": "3.7.3"
  }
 },
 "nbformat": 4,
 "nbformat_minor": 4
}
