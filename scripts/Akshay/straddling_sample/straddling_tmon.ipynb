{
 "cells": [
  {
   "cell_type": "code",
   "execution_count": 215,
   "metadata": {
    "scrolled": true
   },
   "outputs": [
    {
     "name": "stdout",
     "output_type": "stream",
     "text": [
      "The autoreload extension is already loaded. To reload it, use:\n",
      "  %reload_ext autoreload\n"
     ]
    }
   ],
   "source": [
    "%load_ext autoreload\n",
    "%autoreload 2\n",
    "%config IPCompleter.greedy = True"
   ]
  },
  {
   "cell_type": "markdown",
   "metadata": {},
   "source": [
    "# pyEPR analysis of straddling regime sample for pair-coherent state experiment\n",
    "\n",
    "\n",
    "Author: Akshay Koottandavida"
   ]
  },
  {
   "cell_type": "markdown",
   "metadata": {},
   "source": [
    "## <div style=\"background:yellow;line-height:2em;\">Project = straddling_regime_transmon <br> Design = 2. straddling_tmon_prev<div>"
   ]
  },
  {
   "cell_type": "code",
   "execution_count": 216,
   "metadata": {},
   "outputs": [
    {
     "name": "stdout",
     "output_type": "stream",
     "text": [
      "Parsing units:  2um = 2e-06 meters\n",
      "For   L_J = 8.5nH, the Josephson junction energy is\n",
      "      E_J = 19.2 GHz\n"
     ]
    }
   ],
   "source": [
    "import pyEPR as epr\n",
    "from pathlib import Path\n",
    "import logging\n",
    "import matplotlib.pyplot as plt\n",
    "import numpy as np\n",
    "epr.logger.setLevel(logging.DEBUG)\n",
    "%matplotlib inline\n",
    "\n",
    "print('Parsing units:  2um =', \n",
    "      epr.parse_entry('2um', 'meters'), 'meters')\n",
    "\n",
    "print(f\"\"\"For   L_J = 8.5nH, the Josephson junction energy is\n",
    "      E_J = {epr.calcs.Convert.Ej_from_Lj(8.5, 'nH', 'GHz'):.1f} GHz\"\"\")"
   ]
  },
  {
   "cell_type": "code",
   "execution_count": 217,
   "metadata": {},
   "outputs": [
    {
     "name": "stderr",
     "output_type": "stream",
     "text": [
      "INFO 12:34AM [connect]: Connecting to Ansys Desktop API...\n",
      "INFO 12:34AM [load_ansys_project]: \tFile path to HFSS project found.\n",
      "INFO 12:34AM [load_ansys_project]: \tOpened Ansys App\n",
      "INFO 12:34AM [load_ansys_project]: \tOpened Ansys Desktop v2016.0.0\n"
     ]
    },
    {
     "name": "stdout",
     "output_type": "stream",
     "text": [
      "Z:\\akshay_koottandavida\\3. Pair-Coherent States\\HFSS\\pcs_straddling_regime\n",
      "straddling_regime_transmon\n"
     ]
    },
    {
     "name": "stderr",
     "output_type": "stream",
     "text": [
      "INFO 12:34AM [load_ansys_project]: \tOpened Ansys Project\n",
      "\tFolder:    Z:/akshay_koottandavida/3. Pair-Coherent States/HFSS/pcs_straddling_regime/\n",
      "\tProject:   straddling_regime_transmon\n",
      "INFO 12:34AM [connect]: \tOpened active design\n",
      "\tDesign:    2. stradling_tmon_prev_sample [Solution type: Eigenmode]\n",
      "INFO 12:34AM [get_setup]: \tOpened setup `Modes`  (<class 'pyEPR.ansys.HfssEMSetup'>)\n",
      "INFO 12:34AM [connect]: \tConnection to Ansys established successfully. 😀 \n",
      "\n"
     ]
    }
   ],
   "source": [
    "path_to_project = r'Z:\\akshay_koottandavida\\3. Pair-Coherent States\\HFSS\\pcs_straddling_regime'\n",
    "pinfo = epr.ProjectInfo(project_path = path_to_project, \n",
    "                         project_name = 'straddling_regime_transmon',\n",
    "                         design_name  = '2. stradling_tmon_prev_sample')"
   ]
  },
  {
   "cell_type": "markdown",
   "metadata": {},
   "source": [
    "### Design details : Solution Type, object names, Analysis setup names, mesh statistic and convergence"
   ]
  },
  {
   "cell_type": "code",
   "execution_count": 218,
   "metadata": {
    "scrolled": false
   },
   "outputs": [
    {
     "name": "stdout",
     "output_type": "stream",
     "text": [
      "\n",
      " Solution type :  Eigenmode\n",
      "\n",
      " Analysis names :  ('Modes',)\n",
      "\n",
      " No. of modes solved for :  4\n",
      "\n",
      " Mesh statistics & Convergence :\n"
     ]
    },
    {
     "data": {
      "text/html": [
       "<div>\n",
       "<style scoped>\n",
       "    .dataframe tbody tr th:only-of-type {\n",
       "        vertical-align: middle;\n",
       "    }\n",
       "\n",
       "    .dataframe tbody tr th {\n",
       "        vertical-align: top;\n",
       "    }\n",
       "\n",
       "    .dataframe thead th {\n",
       "        text-align: right;\n",
       "    }\n",
       "</style>\n",
       "<table border=\"1\" class=\"dataframe\">\n",
       "  <thead>\n",
       "    <tr style=\"text-align: right;\">\n",
       "      <th></th>\n",
       "      <th>Unnamed: 0</th>\n",
       "      <th>Num Tets</th>\n",
       "      <th>Min edge length</th>\n",
       "      <th>Max edge length</th>\n",
       "      <th>RMS edge length</th>\n",
       "      <th>Min tet vol</th>\n",
       "      <th>Max tet vol</th>\n",
       "      <th>Mean tet vol</th>\n",
       "      <th>Std Devn (vol)</th>\n",
       "    </tr>\n",
       "  </thead>\n",
       "  <tbody>\n",
       "    <tr>\n",
       "      <th>0</th>\n",
       "      <td>storage_cav</td>\n",
       "      <td>131292</td>\n",
       "      <td>0.002064</td>\n",
       "      <td>6.68411</td>\n",
       "      <td>0.686561</td>\n",
       "      <td>4.547040e-10</td>\n",
       "      <td>19.970200</td>\n",
       "      <td>0.031437</td>\n",
       "      <td>0.285529</td>\n",
       "    </tr>\n",
       "    <tr>\n",
       "      <th>1</th>\n",
       "      <td>wigner_chip</td>\n",
       "      <td>90638</td>\n",
       "      <td>0.001687</td>\n",
       "      <td>2.71475</td>\n",
       "      <td>0.116560</td>\n",
       "      <td>1.699650e-10</td>\n",
       "      <td>0.368604</td>\n",
       "      <td>0.000218</td>\n",
       "      <td>0.003103</td>\n",
       "    </tr>\n",
       "    <tr>\n",
       "      <th>2</th>\n",
       "      <td>qubit_chip</td>\n",
       "      <td>144</td>\n",
       "      <td>0.565017</td>\n",
       "      <td>3.87186</td>\n",
       "      <td>2.042930</td>\n",
       "      <td>1.882610e-03</td>\n",
       "      <td>0.554967</td>\n",
       "      <td>0.137899</td>\n",
       "      <td>0.137164</td>\n",
       "    </tr>\n",
       "    <tr>\n",
       "      <th>3</th>\n",
       "      <td>teflon_cap_wigner_top</td>\n",
       "      <td>331</td>\n",
       "      <td>0.666887</td>\n",
       "      <td>3.37668</td>\n",
       "      <td>1.972170</td>\n",
       "      <td>4.679920e-03</td>\n",
       "      <td>0.425697</td>\n",
       "      <td>0.107309</td>\n",
       "      <td>0.094364</td>\n",
       "    </tr>\n",
       "    <tr>\n",
       "      <th>4</th>\n",
       "      <td>teflon_cap_qubit_top</td>\n",
       "      <td>389</td>\n",
       "      <td>0.459135</td>\n",
       "      <td>3.11652</td>\n",
       "      <td>1.669350</td>\n",
       "      <td>8.599560e-04</td>\n",
       "      <td>0.729899</td>\n",
       "      <td>0.091309</td>\n",
       "      <td>0.085510</td>\n",
       "    </tr>\n",
       "    <tr>\n",
       "      <th>5</th>\n",
       "      <td>teflon_cap_wigner_side</td>\n",
       "      <td>369</td>\n",
       "      <td>0.796849</td>\n",
       "      <td>3.11652</td>\n",
       "      <td>1.755470</td>\n",
       "      <td>5.153830e-03</td>\n",
       "      <td>0.493099</td>\n",
       "      <td>0.096258</td>\n",
       "      <td>0.094617</td>\n",
       "    </tr>\n",
       "    <tr>\n",
       "      <th>6</th>\n",
       "      <td>teflon_cap_qubit_side</td>\n",
       "      <td>391</td>\n",
       "      <td>0.435695</td>\n",
       "      <td>2.99720</td>\n",
       "      <td>1.647800</td>\n",
       "      <td>4.412910e-03</td>\n",
       "      <td>0.481091</td>\n",
       "      <td>0.090842</td>\n",
       "      <td>0.085896</td>\n",
       "    </tr>\n",
       "    <tr>\n",
       "      <th>7</th>\n",
       "      <td>wigner_top_coupler</td>\n",
       "      <td>363</td>\n",
       "      <td>0.388806</td>\n",
       "      <td>2.19578</td>\n",
       "      <td>1.122150</td>\n",
       "      <td>7.331360e-04</td>\n",
       "      <td>0.072424</td>\n",
       "      <td>0.015479</td>\n",
       "      <td>0.011230</td>\n",
       "    </tr>\n",
       "    <tr>\n",
       "      <th>8</th>\n",
       "      <td>qubit_top_coupler</td>\n",
       "      <td>220</td>\n",
       "      <td>0.283437</td>\n",
       "      <td>2.20992</td>\n",
       "      <td>1.064590</td>\n",
       "      <td>4.120340e-04</td>\n",
       "      <td>0.059920</td>\n",
       "      <td>0.010946</td>\n",
       "      <td>0.010949</td>\n",
       "    </tr>\n",
       "    <tr>\n",
       "      <th>9</th>\n",
       "      <td>qubit_side_coupler</td>\n",
       "      <td>195</td>\n",
       "      <td>0.469264</td>\n",
       "      <td>1.56215</td>\n",
       "      <td>0.993282</td>\n",
       "      <td>5.511720e-04</td>\n",
       "      <td>0.086882</td>\n",
       "      <td>0.012143</td>\n",
       "      <td>0.013553</td>\n",
       "    </tr>\n",
       "    <tr>\n",
       "      <th>10</th>\n",
       "      <td>wigner_side_coupler</td>\n",
       "      <td>201</td>\n",
       "      <td>0.388806</td>\n",
       "      <td>1.48734</td>\n",
       "      <td>1.005200</td>\n",
       "      <td>6.681180e-04</td>\n",
       "      <td>0.068174</td>\n",
       "      <td>0.011781</td>\n",
       "      <td>0.013197</td>\n",
       "    </tr>\n",
       "    <tr>\n",
       "      <th>11</th>\n",
       "      <td>teflon_cap_storage</td>\n",
       "      <td>363</td>\n",
       "      <td>0.550369</td>\n",
       "      <td>3.11652</td>\n",
       "      <td>1.669220</td>\n",
       "      <td>3.812590e-03</td>\n",
       "      <td>0.481879</td>\n",
       "      <td>0.097849</td>\n",
       "      <td>0.087485</td>\n",
       "    </tr>\n",
       "    <tr>\n",
       "      <th>12</th>\n",
       "      <td>storage_coupler</td>\n",
       "      <td>151</td>\n",
       "      <td>0.388806</td>\n",
       "      <td>2.99720</td>\n",
       "      <td>1.183680</td>\n",
       "      <td>7.692760e-04</td>\n",
       "      <td>0.113992</td>\n",
       "      <td>0.015682</td>\n",
       "      <td>0.017550</td>\n",
       "    </tr>\n",
       "  </tbody>\n",
       "</table>\n",
       "</div>"
      ],
      "text/plain": [
       "                 Unnamed: 0  Num Tets    Min edge length    Max edge length    \\\n",
       "0              storage_cav       131292           0.002064            6.68411   \n",
       "1              wigner_chip        90638           0.001687            2.71475   \n",
       "2               qubit_chip          144           0.565017            3.87186   \n",
       "3    teflon_cap_wigner_top          331           0.666887            3.37668   \n",
       "4     teflon_cap_qubit_top          389           0.459135            3.11652   \n",
       "5   teflon_cap_wigner_side          369           0.796849            3.11652   \n",
       "6    teflon_cap_qubit_side          391           0.435695            2.99720   \n",
       "7       wigner_top_coupler          363           0.388806            2.19578   \n",
       "8        qubit_top_coupler          220           0.283437            2.20992   \n",
       "9       qubit_side_coupler          195           0.469264            1.56215   \n",
       "10     wigner_side_coupler          201           0.388806            1.48734   \n",
       "11      teflon_cap_storage          363           0.550369            3.11652   \n",
       "12         storage_coupler          151           0.388806            2.99720   \n",
       "\n",
       "    RMS edge length    Min tet vol    Max tet vol    Mean tet vol    \\\n",
       "0            0.686561   4.547040e-10      19.970200        0.031437   \n",
       "1            0.116560   1.699650e-10       0.368604        0.000218   \n",
       "2            2.042930   1.882610e-03       0.554967        0.137899   \n",
       "3            1.972170   4.679920e-03       0.425697        0.107309   \n",
       "4            1.669350   8.599560e-04       0.729899        0.091309   \n",
       "5            1.755470   5.153830e-03       0.493099        0.096258   \n",
       "6            1.647800   4.412910e-03       0.481091        0.090842   \n",
       "7            1.122150   7.331360e-04       0.072424        0.015479   \n",
       "8            1.064590   4.120340e-04       0.059920        0.010946   \n",
       "9            0.993282   5.511720e-04       0.086882        0.012143   \n",
       "10           1.005200   6.681180e-04       0.068174        0.011781   \n",
       "11           1.669220   3.812590e-03       0.481879        0.097849   \n",
       "12           1.183680   7.692760e-04       0.113992        0.015682   \n",
       "\n",
       "    Std Devn (vol)    \n",
       "0           0.285529  \n",
       "1           0.003103  \n",
       "2           0.137164  \n",
       "3           0.094364  \n",
       "4           0.085510  \n",
       "5           0.094617  \n",
       "6           0.085896  \n",
       "7           0.011230  \n",
       "8           0.010949  \n",
       "9           0.013553  \n",
       "10          0.013197  \n",
       "11          0.087485  \n",
       "12          0.017550  "
      ]
     },
     "execution_count": 218,
     "metadata": {},
     "output_type": "execute_result"
    }
   ],
   "source": [
    "print(\"\\n Solution type : \",pinfo.design.solution_type)\n",
    "#print(pinfo.get_all_object_names())\n",
    "print(\"\\n Analysis names : \",pinfo.design.get_setup_names())\n",
    "print(\"\\n No. of modes solved for : \",pinfo.setup.n_modes)\n",
    "print(\"\\n Mesh statistics & Convergence :\")\n",
    "pinfo.setup.get_mesh_stats()"
   ]
  },
  {
   "cell_type": "markdown",
   "metadata": {},
   "source": [
    "## Define josephson junctions"
   ]
  },
  {
   "cell_type": "code",
   "execution_count": 219,
   "metadata": {},
   "outputs": [],
   "source": [
    "pinfo.junctions['j1'] = {'Lj_variable' : 'LJ_wig', \n",
    "                         'rect'        : 'wigner_qubit', \n",
    "                         'line'        : 'Polyline1', \n",
    "                         'length'      : epr.parse_units('200um')}\n",
    "\n",
    "# Check that valid names of variables and objects have been supplied.\n",
    "# An error is raised with a message if something is wrong.\n",
    "pinfo.validate_junction_info()  "
   ]
  },
  {
   "cell_type": "markdown",
   "metadata": {},
   "source": [
    "## <div style=\"background:yellow;line-height:2em;\">Microwave Analysis: Run analysis on an eigenmode solution  <div>"
   ]
  },
  {
   "cell_type": "code",
   "execution_count": 220,
   "metadata": {
    "scrolled": true
   },
   "outputs": [
    {
     "name": "stdout",
     "output_type": "stream",
     "text": [
      "Design \"2. stradling_tmon_prev_sample\" info:\n",
      "\t# eigenmodes    4\n",
      "\t# variations    1\n"
     ]
    },
    {
     "data": {
      "text/html": [
       "<div>\n",
       "<style scoped>\n",
       "    .dataframe tbody tr th:only-of-type {\n",
       "        vertical-align: middle;\n",
       "    }\n",
       "\n",
       "    .dataframe tbody tr th {\n",
       "        vertical-align: top;\n",
       "    }\n",
       "\n",
       "    .dataframe thead th {\n",
       "        text-align: right;\n",
       "    }\n",
       "</style>\n",
       "<table border=\"1\" class=\"dataframe\">\n",
       "  <thead>\n",
       "    <tr style=\"text-align: right;\">\n",
       "      <th></th>\n",
       "      <th></th>\n",
       "      <th>Freq. (GHz)</th>\n",
       "      <th>Quality Factor</th>\n",
       "    </tr>\n",
       "    <tr>\n",
       "      <th>variation</th>\n",
       "      <th>mode</th>\n",
       "      <th></th>\n",
       "      <th></th>\n",
       "    </tr>\n",
       "  </thead>\n",
       "  <tbody>\n",
       "    <tr>\n",
       "      <th rowspan=\"4\" valign=\"top\">0</th>\n",
       "      <th>0</th>\n",
       "      <td>6.112568</td>\n",
       "      <td>3.646606e+08</td>\n",
       "    </tr>\n",
       "    <tr>\n",
       "      <th>1</th>\n",
       "      <td>6.321514</td>\n",
       "      <td>8.246810e+08</td>\n",
       "    </tr>\n",
       "    <tr>\n",
       "      <th>2</th>\n",
       "      <td>6.820642</td>\n",
       "      <td>1.891503e+07</td>\n",
       "    </tr>\n",
       "    <tr>\n",
       "      <th>3</th>\n",
       "      <td>8.420548</td>\n",
       "      <td>4.361459e+04</td>\n",
       "    </tr>\n",
       "  </tbody>\n",
       "</table>\n",
       "</div>"
      ],
      "text/plain": [
       "                Freq. (GHz)  Quality Factor\n",
       "variation mode                             \n",
       "0         0        6.112568    3.646606e+08\n",
       "          1        6.321514    8.246810e+08\n",
       "          2        6.820642    1.891503e+07\n",
       "          3        8.420548    4.361459e+04"
      ]
     },
     "execution_count": 220,
     "metadata": {},
     "output_type": "execute_result"
    }
   ],
   "source": [
    "eprh = epr.DistributedAnalysis(pinfo)\n",
    "# eprh.get_ansys_variables()            # Prints all the variables in the design\n",
    "num_var = len(eprh.get_variations())    # stores the number of variations\n",
    "eprh.get_ansys_frequencies_all()\n",
    "# eprh.hfss_report_full_convergence();  # Shows convergence report"
   ]
  },
  {
   "cell_type": "markdown",
   "metadata": {},
   "source": [
    "#### Run full analysis"
   ]
  },
  {
   "cell_type": "code",
   "execution_count": 221,
   "metadata": {
    "collapsed": true
   },
   "outputs": [
    {
     "name": "stdout",
     "output_type": "stream",
     "text": [
      "\n",
      "Variation 0  [1/1]\n",
      "\n",
      "  \u001b[1mMode 0 at 6.11 GHz   [1/4]\u001b[0m\n",
      "    Calculating ℰ_magnetic,ℰ_electric\n"
     ]
    },
    {
     "name": "stderr",
     "output_type": "stream",
     "text": [
      "DEBUG 12:35AM [calc_p_junction]: Calculating participations for ('j1', {'Lj_variable': 'LJ_wig', 'rect': 'wigner_qubit', 'line': 'Polyline1', 'length': 0.00019999999999999998})\n"
     ]
    },
    {
     "name": "stdout",
     "output_type": "stream",
     "text": [
      "       (ℰ_E-ℰ_H)/ℰ_E       ℰ_E       ℰ_H\n",
      "                0.1%          1    0.9995\n",
      "\n",
      "    Calculating junction energy participation ration (EPR)\n",
      "\tmethod=`line_voltage`. First estimates:\n",
      "\tjunction        EPR p_0j   sign s_0j    (p_capacitive)\n",
      "\t\tEnergy fraction (Lj over Lj&Cj)= 97.42%\n",
      "\tj1              0.000172797  (+)        4.57773e-06\n",
      "\t\t(U_tot_cap-U_tot_ind)/mean=0.02%\n",
      "\n",
      "  \u001b[1mMode 1 at 6.32 GHz   [2/4]\u001b[0m\n",
      "    Calculating ℰ_magnetic,ℰ_electric\n"
     ]
    },
    {
     "name": "stderr",
     "output_type": "stream",
     "text": [
      "DEBUG 12:35AM [calc_p_junction]: Calculating participations for ('j1', {'Lj_variable': 'LJ_wig', 'rect': 'wigner_qubit', 'line': 'Polyline1', 'length': 0.00019999999999999998})\n"
     ]
    },
    {
     "name": "stdout",
     "output_type": "stream",
     "text": [
      "       (ℰ_E-ℰ_H)/ℰ_E       ℰ_E       ℰ_H\n",
      "                0.1%          1    0.9995\n",
      "\n",
      "    Calculating junction energy participation ration (EPR)\n",
      "\tmethod=`line_voltage`. First estimates:\n",
      "\tjunction        EPR p_1j   sign s_1j    (p_capacitive)\n",
      "\t\tEnergy fraction (Lj over Lj&Cj)= 97.24%\n",
      "\tj1              0.000256678  (+)        7.27272e-06\n",
      "\t\t(U_tot_cap-U_tot_ind)/mean=0.02%\n",
      "\n",
      "  \u001b[1mMode 2 at 6.82 GHz   [3/4]\u001b[0m\n",
      "    Calculating ℰ_magnetic,ℰ_electric\n"
     ]
    },
    {
     "name": "stderr",
     "output_type": "stream",
     "text": [
      "DEBUG 12:35AM [calc_p_junction]: Calculating participations for ('j1', {'Lj_variable': 'LJ_wig', 'rect': 'wigner_qubit', 'line': 'Polyline1', 'length': 0.00019999999999999998})\n"
     ]
    },
    {
     "name": "stdout",
     "output_type": "stream",
     "text": [
      "       (ℰ_E-ℰ_H)/ℰ_E       ℰ_E       ℰ_H\n",
      "               97.0%      1.941   0.05901\n",
      "\n",
      "    Calculating junction energy participation ration (EPR)\n",
      "\tmethod=`line_voltage`. First estimates:\n",
      "\tjunction        EPR p_2j   sign s_2j    (p_capacitive)\n",
      "\t\tEnergy fraction (Lj over Lj&Cj)= 96.81%\n",
      "\tj1              0.966893  (+)        0.031893\n",
      "\t\t(U_tot_cap-U_tot_ind)/mean=1.71%\n",
      "\n",
      "  \u001b[1mMode 3 at 8.42 GHz   [4/4]\u001b[0m\n",
      "    Calculating ℰ_magnetic,ℰ_electric\n"
     ]
    },
    {
     "name": "stderr",
     "output_type": "stream",
     "text": [
      "DEBUG 12:36AM [calc_p_junction]: Calculating participations for ('j1', {'Lj_variable': 'LJ_wig', 'rect': 'wigner_qubit', 'line': 'Polyline1', 'length': 0.00019999999999999998})\n"
     ]
    },
    {
     "name": "stdout",
     "output_type": "stream",
     "text": [
      "       (ℰ_E-ℰ_H)/ℰ_E       ℰ_E       ℰ_H\n",
      "                2.0%      1.002    0.9811\n",
      "\n",
      "    Calculating junction energy participation ration (EPR)\n",
      "\tmethod=`line_voltage`. First estimates:\n",
      "\tjunction        EPR p_3j   sign s_3j    (p_capacitive)\n",
      "\t\tEnergy fraction (Lj over Lj&Cj)= 95.21%\n",
      "\tj1              0.0029933  (+)        0.000150486\n",
      "\t\t(U_tot_cap-U_tot_ind)/mean=0.89%\n",
      "\n",
      "ANALYSIS DONE. Data saved to:\n",
      "\n",
      "Z:\\akshay_koottandavida\\Code\\pyEPR\\data-pyEPR\\straddling_regime_transmon\\2. stradling_tmon_prev_sample\\2020-03-14 00-34-41.npz\n",
      "\n",
      "\n"
     ]
    }
   ],
   "source": [
    "eprh.do_EPR_analysis();"
   ]
  },
  {
   "cell_type": "markdown",
   "metadata": {},
   "source": [
    "## <div style=\"background:yellow;line-height:2em;\"> Quantum Hamiltonian Analysis: <div>"
   ]
  },
  {
   "cell_type": "markdown",
   "metadata": {},
   "source": [
    "## <div style=\"background:#BBFABB;line-height:2em;\"> Finding $\\chi$ with the e-level of the transmon"
   ]
  },
  {
   "cell_type": "markdown",
   "metadata": {},
   "source": [
    "Assume a harmonic oscillator dispersively coupled to a transmon. The hamiltonian will look something like this :\n",
    "\n",
    "$ H/\\hbar= \\omega_a a^\\dagger a + \\omega_q q^\\dagger q + \\frac{\\alpha}{2}q^\\dagger q^\\dagger q q -\\chi a^\\dagger a q^\\dagger q$\n",
    "\n",
    "This is a purely diagonal hamiltonian $H_{mat}$ in the fock number basis, with diagonal elements $\\{v_1, v_2,v_3,...\\}$. BBQ assumes the following hamiltonian\n",
    "\n",
    "$ H_e/\\hbar= \\omega_a a^\\dagger a + \\omega_q q^\\dagger q + \\frac{\\alpha}{2}q^\\dagger q^\\dagger q q -\\chi_{e}a^\\dagger a |e><e|$\n",
    "\n",
    "\n",
    "To extract $\\{\\omega_a, \\omega_q, \\alpha, \\chi_e\\}$, BBQ follows the followingn protocol :\n",
    "\n",
    "Step 1 : Find the bare frequencies.\n",
    "\n",
    "Diagonalise $H_{mat}$ and find he eigenvalues :  $\\{v_1, v_2,v_3,...\\}$ and eignevenctors (usually, just the simplest basis vectors). Next, find the expectation values of the states with one photon in each state. The states are (1,0,0,0...) for the modes\n",
    "\n",
    "$<1,g|H|1,g> = \\omega_a$\n",
    "\n",
    "$<0,e|H|0,e> = \\omega_q$\n",
    "\n",
    "Step 2 : Find $\\chi$ & $\\alpha$\n",
    "\n",
    "To find $\\chi$, put one photon each in cavity and transmon and find energies : $<1,e|H|1,e> = \\omega_a + \\omega_q - \\chi_e$\n",
    "\n",
    "So $\\chi_e= <1,e|H|1,e> - (\\omega_a + \\omega_q)$\n",
    "\n",
    "To find $\\alpha$, put two photons in the transmon : $<0,f|H|0,f> = \\alpha$"
   ]
  },
  {
   "cell_type": "markdown",
   "metadata": {},
   "source": [
    "## <div style=\"background:cyan;line-height:2em;\"> Notation : $\\chi$ is defined to be negative. If $\\chi$ is +ve, then we are in straddling regime. <div>"
   ]
  },
  {
   "cell_type": "markdown",
   "metadata": {},
   "source": [
    "### Modifications to the code"
   ]
  },
  {
   "cell_type": "code",
   "execution_count": 222,
   "metadata": {
    "collapsed": true
   },
   "outputs": [
    {
     "name": "stderr",
     "output_type": "stream",
     "text": [
      "WARNING 12:36AM [__init__]: <p>Error: <class 'IndexError'></p>\n",
      "DEBUG 12:36AM [get_epr_base_matrices]: PJ=\n",
      "DEBUG 12:36AM [get_epr_base_matrices]: [[1.72796446e-04]\n",
      " [2.56676177e-04]\n",
      " [9.70041544e-01]\n",
      " [2.99285190e-03]]\n",
      "DEBUG 12:36AM [get_epr_base_matrices]: SJ=\n",
      "DEBUG 12:36AM [get_epr_base_matrices]: [[1]\n",
      " [1]\n",
      " [1]\n",
      " [1]]\n",
      "DEBUG 12:36AM [get_epr_base_matrices]: Om=\n",
      "DEBUG 12:36AM [get_epr_base_matrices]: [[6.11256793 0.         0.         0.        ]\n",
      " [0.         6.32151374 0.         0.        ]\n",
      " [0.         0.         6.82064218 0.        ]\n",
      " [0.         0.         0.         8.42054831]]\n",
      "DEBUG 12:36AM [get_epr_base_matrices]: EJ=\n",
      "DEBUG 12:36AM [get_epr_base_matrices]: [[18.20284107]]\n"
     ]
    },
    {
     "name": "stdout",
     "output_type": "stream",
     "text": [
      "\t Differences in variations:\n",
      "\n",
      "\n",
      "\n",
      " . . . . . . . . . . . . . . . . . . . . . . . . . . . . . . . . . . . . . . . . \n",
      "Variation 0\n",
      "\n",
      "Starting the diagonalization\n",
      "Finished the diagonalization\n",
      "Pm_norm=\n",
      "modes\n",
      "0    2.211196\n",
      "1    1.792813\n",
      "2    1.035254\n",
      "3    3.977560\n",
      "dtype: float64\n",
      "\n",
      "Pm_norm idx =\n",
      "      j1\n",
      "0  False\n",
      "1  False\n",
      "2   True\n",
      "3  False\n",
      "*** P (participation matrix, not normlz.)\n",
      "         j1\n",
      "0  0.000173\n",
      "1  0.000257\n",
      "2  0.937009\n",
      "3  0.002993\n",
      "\n",
      "*** S (sign-bit matrix)\n",
      "   s_j1\n",
      "0     1\n",
      "1     1\n",
      "2     1\n",
      "3     1\n",
      "*** P (participation matrix, normalized.)\n",
      "   0.00017\n",
      "   0.00026\n",
      "      0.97\n",
      "     0.003\n",
      "\n",
      "*** Chi matrix O1 PT (MHz)\n",
      "    Diag is anharmonicity, off diag is full cross-Kerr.\n",
      "  7.66e-06 2.35e-05    0.096 0.000366\n",
      "  2.35e-05 1.81e-05    0.147 0.000562\n",
      "     0.096    0.147      301     2.29\n",
      "  0.000366 0.000562     2.29  0.00436\n",
      "\n",
      "*** Chi matrix ND (MHz) \n",
      " -0.000161 -0.00154    -2.28-0.000768\n",
      "  -0.00154   -0.011     1.49 -0.00276\n",
      "     -2.28     1.49     -332    -1.51\n",
      " -0.000768 -0.00276    -1.51 -0.00216\n",
      "\n",
      "*** Frequencies O1 PT (MHz)\n",
      "0    6112.519738\n",
      "1    6321.439713\n",
      "2    6518.766414\n",
      "3    8419.398473\n",
      "dtype: float64\n",
      "\n",
      "*** Frequencies ND (MHz)\n",
      "0    6112.476348\n",
      "1    6321.301490\n",
      "2    6504.228655\n",
      "3    8419.541959\n",
      "dtype: float64\n",
      "\n",
      "*** Q_coupling\n",
      "Empty DataFrame\n",
      "Columns: []\n",
      "Index: [0, 1, 2, 3]\n"
     ]
    },
    {
     "data": {
      "text/plain": [
       "OrderedDict([('0', OrderedDict([('f_0', 0    6112.567930\n",
       "                            1    6321.513745\n",
       "                            2    6820.642182\n",
       "                            3    8420.548315\n",
       "                            Name: 0, dtype: float64), ('f_1', 0    6112.519738\n",
       "                            1    6321.439713\n",
       "                            2    6518.766414\n",
       "                            3    8419.398473\n",
       "                            dtype: float64), ('f_ND', 0    6112.476348\n",
       "                            1    6321.301490\n",
       "                            2    6504.228655\n",
       "                            3    8419.541959\n",
       "                            dtype: float64), ('chi_O1',\n",
       "                                      0         1           2         3\n",
       "                            0  0.000008  0.000024    0.095979  0.000366\n",
       "                            1  0.000024  0.000018    0.147443  0.000562\n",
       "                            2  0.095979  0.147443  300.609040  2.290035\n",
       "                            3  0.000366  0.000562    2.290035  0.004361), ('chi_ND',\n",
       "                                      0         1           2         3\n",
       "                            0 -0.000161 -0.001543   -2.276212 -0.000768\n",
       "                            1 -0.001543 -0.011009    1.488098 -0.002755\n",
       "                            2 -2.276212  1.488098 -331.691806 -1.513144\n",
       "                            3 -0.000768 -0.002755   -1.513144 -0.002159), ('ZPF',\n",
       "                            array([[0.00538635],\n",
       "                                   [0.00667604],\n",
       "                                   [0.42630774],\n",
       "                                   [0.02631045]])), ('Pm_normed',\n",
       "                            array([[1.72796446e-04],\n",
       "                                   [2.56676177e-04],\n",
       "                                   [9.70041544e-01],\n",
       "                                   [2.99285190e-03]])), ('Pm_raw',          j1\n",
       "                            0  0.000173\n",
       "                            1  0.000257\n",
       "                            2  0.937009\n",
       "                            3  0.002993), ('Pm_cap', array([[4.57770994e-06],\n",
       "                                   [7.27266870e-06],\n",
       "                                   [3.09072355e-02],\n",
       "                                   [1.50463805e-04]])), ('_Pm_norm', modes\n",
       "                            0    2.211196\n",
       "                            1    1.792813\n",
       "                            2    1.035254\n",
       "                            3    3.977560\n",
       "                            dtype: float64), ('_Pm_cap_norm', modes\n",
       "                            0    44.711336\n",
       "                            1    26.973578\n",
       "                            2     0.465286\n",
       "                            3    58.040573\n",
       "                            dtype: float64), ('chi_ef',\n",
       "                            array([ 3.69299058,  0.09472819, -2.49847852])), ('f_gf',\n",
       "                            array([1.26767655e+10])), ('hfss_variables',\n",
       "                            _$excursion_pp              0.5mm\n",
       "                            _$l_pp_straight_close       0.9mm\n",
       "                            _$l_pp_straight_far         0.9mm\n",
       "                            _$pitch_pp                  0.9mm\n",
       "                            _$pp_wigle_n                    3\n",
       "                            _$w_pp                      200um\n",
       "                            _chip_ht                   0.43mm\n",
       "                            _chip_x_len                   2mm\n",
       "                            _chip_y_len               23.09mm\n",
       "                            _coup_tun_len               0.2in\n",
       "                            _coup_tun_rad              0.06in\n",
       "                            _coupler_hole_len           0.2in\n",
       "                            _coupler_hole_rad          0.06in\n",
       "                            _dist                       0.1in\n",
       "                            _large_flux_xpos                0\n",
       "                            _len                      0.205in\n",
       "                            _LJ_qubit                     5nH\n",
       "                            _LJ_wig                    8.98nH\n",
       "                            _post_ht1                  0.42in\n",
       "                            _post_ht2                  0.42in\n",
       "                            _post_rad                  0.04in\n",
       "                            _qubit_l                    0.2mm\n",
       "                            _qubit_pad_l                1.6mm\n",
       "                            _qubit_pad_w                1.2mm\n",
       "                            _qubit_reso_len              11mm\n",
       "                            _qubit_reso_pos             0.2mm\n",
       "                            _qubit_side_coup_len      0.118in\n",
       "                            _qubit_side_coup_pos       6.58mm\n",
       "                            _qubit_top_coup_len        0.12in\n",
       "                            _qubit_top_coup_pos      15.216mm\n",
       "                                                       ...   \n",
       "                            _qubit_x_len                  0mm\n",
       "                            _qubit_y_len                  0mm\n",
       "                            _qubit_ypos                   0mm\n",
       "                            _semi_circ_rad            0.165in\n",
       "                            _storage_cav_ht             1.5in\n",
       "                            _storage_coup_len         0.118in\n",
       "                            _tiny_flux_xpos               0mm\n",
       "                            _wig_coup1_len            0.118in\n",
       "                            _wig_coup_1_pos             0.4in\n",
       "                            _wig_qubit_cen              2.5mm\n",
       "                            _wig_qubit_l                0.2mm\n",
       "                            _wig_qubit_w              0.025mm\n",
       "                            _wig_qubit_ypos               0mm\n",
       "                            _wig_reso_len                10mm\n",
       "                            _wig_side_coup_len        0.118in\n",
       "                            _wig_side_coup_pos         6.58mm\n",
       "                            _wig_top_coup_len          0.28in\n",
       "                            _wig_top_coup_pos        15.216mm\n",
       "                            _wig_tun_overlap            1.4mm\n",
       "                            _wign_chip_tun_len         0.85in\n",
       "                            _wign_chip_tun_rad       0.0625in\n",
       "                            _wigner_pad1_l                0mm\n",
       "                            _wigner_pad1_w                0mm\n",
       "                            _wigner_pad1_xpos               0\n",
       "                            _wigner_pad1_ypos             0mm\n",
       "                            _wigner_pad2_xpos               0\n",
       "                            _wigner_pad2_ypos             0mm\n",
       "                            _wigner_pad_l               0.4mm\n",
       "                            _wigner_pad_w               0.4mm\n",
       "                            _wigner_reso_pos            1.5mm\n",
       "                            Name: 0, Length: 61, dtype: object), ('Ljs',\n",
       "                            j1    8.980000e-09\n",
       "                            Name: 0, dtype: float64), ('Cjs',\n",
       "                            j1    2.000000e-15\n",
       "                            Name: 0, dtype: float64), ('Q_coupling',\n",
       "                            Empty DataFrame\n",
       "                            Columns: []\n",
       "                            Index: [0, 1, 2, 3]), ('Qs', 0    3.646606e+08\n",
       "                            1    8.246810e+08\n",
       "                            2    1.891503e+07\n",
       "                            3    4.361459e+04\n",
       "                            Name: 0, dtype: float64), ('fock_trunc',\n",
       "                            7), ('cos_trunc', 6)]))])"
      ]
     },
     "execution_count": 222,
     "metadata": {},
     "output_type": "execute_result"
    }
   ],
   "source": [
    "# Load saved solutions from above\n",
    "epra = epr.QuantumAnalysis(eprh.data_filename)\n",
    "\n",
    "# Code is modified such that if 'return_ef = True', then chi_f is returned in the results. (Read next section)\n",
    "epra.analyze_all_variations(cos_trunc = 6, fock_trunc = 7, return_ef=True) "
   ]
  },
  {
   "cell_type": "code",
   "execution_count": 236,
   "metadata": {},
   "outputs": [
    {
     "name": "stdout",
     "output_type": "stream",
     "text": [
      "L_j =  8.980 nH\n",
      "Alice freq. =  6.112 GHz\n",
      "Bob freq. =  6.321 GHz\n",
      "Qubit ge freq. =  6.504 GHz\n",
      "Qubit ef freq. =  6.173 GHz\n"
     ]
    }
   ],
   "source": [
    "#num_var = 51\n",
    "Ljs = np.array([epra.results[str(i)]['Ljs'][0] for i in range(num_var)])*1e9\n",
    "qubit_ge = np.array([epra.get_frequencies(numeric=True)[str(i)][2] for i in range(num_var)])*1e-3\n",
    "qubit_gf = np.array([epra.results[str(i)]['f_gf'] for i in range(num_var)])*1e-9\n",
    "qubit_ef = (qubit_gf - qubit_ge) \n",
    "\n",
    "alice_freq = np.array([epra.get_frequencies(numeric=True)[str(i)][0] for i in range(num_var)])*1e-3\n",
    "bob_freq = np.array([epra.get_frequencies(numeric=True)[str(i)][1] for i in range(num_var)])*1e-3\n",
    "\n",
    "if num_var==1 :\n",
    "    print('L_j =  %.3f' % Ljs[0],'nH')\n",
    "    print('Alice freq. =  %.3f' % alice_freq[0],'GHz')\n",
    "    print('Bob freq. =  %.3f' % bob_freq[0],'GHz')\n",
    "    print('Qubit ge freq. =  %.3f' % qubit_ge[0],'GHz')\n",
    "    print('Qubit ef freq. =  %.3f' % qubit_ef[0],'GHz')"
   ]
  },
  {
   "cell_type": "code",
   "execution_count": 224,
   "metadata": {
    "scrolled": false
   },
   "outputs": [
    {
     "name": "stdout",
     "output_type": "stream",
     "text": [
      "chi with alice = -2.276 MHz\n",
      "chi with bob =  1.488 MHz\n"
     ]
    }
   ],
   "source": [
    "chi_e_a = np.array([epra.get_chis(variations=[str(i)],numeric=True)[0][2] for i in range(num_var)])\n",
    "chi_e_b = np.array([epra.get_chis(variations=[str(i)],numeric=True)[1][2] for i in range(num_var)])\n",
    "\n",
    "if num_var==1 :\n",
    "    print('chi with alice = %.3f' % chi_e_a[0],'MHz')\n",
    "    print('chi with bob =  %.3f'% chi_e_b[0],'MHz')"
   ]
  },
  {
   "cell_type": "code",
   "execution_count": 225,
   "metadata": {},
   "outputs": [],
   "source": [
    "if num_var > 1 :\n",
    "    fig, ax = plt.subplots(1,2,sharey=True,figsize=(15,5))\n",
    "    ax[0].plot(qubit_ge,chi_e_a,'bo',label='Alice')\n",
    "    ax[0].plot(qubit_ge,chi_e_b,'ro',label='Bob')\n",
    "    ax[0].set_xlabel('Qubit ge freq (GHz)')\n",
    "    ax[0].set_ylabel('Dispersive shift due to qubit being in e-state (MHz)')\n",
    "    ax[1].plot(Ljs,chi_e_a,'bo')\n",
    "    ax[1].plot(Ljs,chi_e_b,'ro')\n",
    "    ax[1].set_xlabel('Lj (nH)')\n",
    "    fig.legend()\n",
    "    plt.show()"
   ]
  },
  {
   "cell_type": "code",
   "execution_count": 226,
   "metadata": {},
   "outputs": [],
   "source": [
    "#fig.savefig('sample.pdf')"
   ]
  },
  {
   "cell_type": "markdown",
   "metadata": {},
   "source": [
    "## <div style=\"background:#BBFABB;line-height:2em;\"> Finding the point where $\\chi^{A}_e=-\\chi^{B}_e$"
   ]
  },
  {
   "cell_type": "code",
   "execution_count": 227,
   "metadata": {},
   "outputs": [],
   "source": [
    "if num_var > 1 :\n",
    "    # Sum the 2 arrays and find the element which is closest to 0. The index of this point should correspond to the \n",
    "    # frequency at which the chis are equal and opposite.\n",
    "    dif = chi_e_a+chi_e_b\n",
    "    closest_to_0 = dif.flat[np.abs(dif).argmin()]\n",
    "    matching_pt = np.where(dif==closest_to_0)[0][0]\n",
    "    print('chis are close to being equal and opposite at :')\n",
    "    print('')\n",
    "    print('transmon ge frequency :',qubit_ge[matching_pt],'GHz')\n",
    "    print('chi_e with alice =',chi_e_a[matching_pt],'MHz')\n",
    "    print('chi_e with bob =',chi_e_b[matching_pt],'MHz')"
   ]
  },
  {
   "cell_type": "markdown",
   "metadata": {},
   "source": [
    "## <div style=\"background:#BBFABB;line-height:2em;\"> Finding $\\chi$ with the f-level of the transmon"
   ]
  },
  {
   "cell_type": "markdown",
   "metadata": {},
   "source": [
    "We can include the f-level of the transmon in the effective hamiltonian : \n",
    "\n",
    "$ H_{ef}/\\hbar= \\omega_a a^\\dagger a + \\omega_q q^\\dagger q + \\frac{\\alpha}{2}q^\\dagger q^\\dagger q q -\\chi_{e}a^\\dagger a |e><e|-\\chi_{f}a^\\dagger a |f><f|$\n",
    "\n",
    "To find $\\chi_{f}$, put 2 photons in the transmon and 1 photon in the cavity.\n",
    "\n",
    " $<1,f|H|1,f> = \\omega_a + 2\\omega_q +\\alpha - 2\\chi$\n",
    " \n",
    " Now, $\\omega_{gf} = 2\\omega_q +\\alpha$ and we will call $\\chi_{f} = 2\\chi$"
   ]
  },
  {
   "cell_type": "code",
   "execution_count": 228,
   "metadata": {},
   "outputs": [
    {
     "name": "stdout",
     "output_type": "stream",
     "text": [
      "chi b/w alice & transmon f-level = 3.693 MHz\n",
      "chi b/w bob & transmon f-level =  0.095 MHz\n"
     ]
    }
   ],
   "source": [
    "chi_f_a = np.array([epra.results[str(i)]['chi_ef'][0] for i in range(num_var)])\n",
    "chi_f_b = np.array([epra.results[str(i)]['chi_ef'][1] for i in range(num_var)])\n",
    "\n",
    "if num_var==1 :\n",
    "    print('chi b/w alice & transmon f-level = %.3f' % chi_f_a[0],'MHz')\n",
    "    print('chi b/w bob & transmon f-level =  %.3f'% chi_f_b[0],'MHz')"
   ]
  },
  {
   "cell_type": "code",
   "execution_count": 229,
   "metadata": {},
   "outputs": [],
   "source": [
    "if num_var > 1 :\n",
    "    fig, ax = plt.subplots(1,2,sharey=True,figsize=(15,5))\n",
    "    ax[0].plot(qubit_ge,chi_f_a,'bo',label='Alice')\n",
    "    ax[0].plot(qubit_ge,chi_f_b,'ro',label='Bob')\n",
    "    ax[0].set_xlabel('Qubit ge freq (GHz)')\n",
    "    ax[0].set_ylabel('Dispersive shift due to qubit being in f-state (MHz)')\n",
    "    ax[1].plot(Ljs,chi_f_a,'bo')\n",
    "    ax[1].plot(Ljs,chi_f_b,'ro')\n",
    "    ax[1].set_xlabel('Lj (nH)')\n",
    "    fig.legend()\n",
    "    plt.show()"
   ]
  },
  {
   "cell_type": "code",
   "execution_count": 230,
   "metadata": {},
   "outputs": [],
   "source": [
    "#fig.savefig('sample.pdf')"
   ]
  },
  {
   "cell_type": "markdown",
   "metadata": {},
   "source": [
    "Assuming $\\chi_{f} = \\chi_{e}+\\chi_{ef}$, plot $\\chi_{ef}$"
   ]
  },
  {
   "cell_type": "code",
   "execution_count": 231,
   "metadata": {
    "scrolled": false
   },
   "outputs": [
    {
     "name": "stdout",
     "output_type": "stream",
     "text": [
      "chi to alice only due to  ef transition = 5.969 MHz\n",
      "chi to bob only due to  ef transition =  -1.393 MHz\n"
     ]
    }
   ],
   "source": [
    "chi_ef_a = chi_f_a - chi_e_a\n",
    "chi_ef_b = chi_f_b - chi_e_b\n",
    "\n",
    "if num_var==1 :\n",
    "    print('chi to alice only due to  ef transition = %.3f' % chi_ef_a[0],'MHz')\n",
    "    print('chi to bob only due to  ef transition =  %.3f'% chi_ef_b[0],'MHz')"
   ]
  },
  {
   "cell_type": "code",
   "execution_count": 232,
   "metadata": {},
   "outputs": [],
   "source": [
    "if num_var > 1 :\n",
    "    fig, ax = plt.subplots(1,2,sharey=True,figsize=(15,5))\n",
    "    ax[0].plot(qubit_ge,chi_ef_a,'bo',label='Alice')\n",
    "    ax[0].plot(qubit_ge,chi_ef_b,'ro',label='Bob')\n",
    "    ax[0].set_xlabel('Qubit ge freq (GHz)')\n",
    "    ax[0].set_ylabel('Dispersive shift only due to qubit ef transition (MHz)')\n",
    "    ax[1].plot(Ljs,chi_ef_a,'bo')\n",
    "    ax[1].plot(Ljs,chi_ef_b,'ro')\n",
    "    ax[1].set_xlabel('Lj (nH)')\n",
    "    fig.legend()\n",
    "    plt.show()"
   ]
  },
  {
   "cell_type": "code",
   "execution_count": 233,
   "metadata": {},
   "outputs": [],
   "source": [
    "#fig.savefig('sample.pdf')"
   ]
  },
  {
   "cell_type": "markdown",
   "metadata": {},
   "source": [
    "## <div style=\"background:yellow;line-height:2em;\"> Joint parity protocol using f-level of the transmon<div>"
   ]
  },
  {
   "cell_type": "markdown",
   "metadata": {},
   "source": [
    "Ref : wang et al. (DOI: 10.1126/science.aaf2941) https://science.sciencemag.org/content/sci/352/6289/1087.full.pdf\n",
    "\n",
    "Supplementary Material : https://science.sciencemag.org/content/sci/suppl/2016/05/25/352.6289.1087.DC1/Wang-SM.pdf"
   ]
  },
  {
   "cell_type": "markdown",
   "metadata": {},
   "source": [
    "The question is whether we can use this sample to do joint parity measurement on both alice & bob for wigner tomography. To summarise the protocol, it basically boils down to engineering a unitary operator of the form :\n",
    "\n",
    "$U(t) = I_A \\otimes I_B \\otimes |g\\rangle \\langle g| + e^{i \\chi^{A}_e t a^{\\dagger}a}\\otimes e^{i \\chi^{B}_e t b^{\\dagger}b}\\otimes |e\\rangle \\langle e| + e^{i \\chi^{A}_f t a^{\\dagger}a}\\otimes e^{i \\chi^{B}_f t b^{\\dagger}b}\\otimes |f\\rangle \\langle f|$\n",
    "\n",
    "Next, by using $\\pi/2$ and $\\pi$ pulses in both the g-e and e-f bloch spheres and using 2 wait times $t_1$ and $t_2$, this unitary should become the joint parity operator under the following conditions :\n",
    "\n",
    "$\\chi^{A}_e t_1 + \\chi^{A}_f t_2 = \\pm \\pi$ \n",
    "\n",
    "$\\chi^{B}_e t_1 + \\chi^{B}_f t_2 = \\pm \\pi$"
   ]
  },
  {
   "cell_type": "code",
   "execution_count": 234,
   "metadata": {},
   "outputs": [
    {
     "name": "stdout",
     "output_type": "stream",
     "text": [
      "Wait times : t1 = 0.77 us ; t2 = 3.28 us\n"
     ]
    }
   ],
   "source": [
    "pt = 0 if num_var==1 else 30    # choose what freq. of the transmon to operate at, by choosing the index of the list\n",
    "\n",
    "chi_mat = np.array([[chi_e_a[pt], chi_e_b[pt]], [chi_f_a[pt], chi_f_b[pt]]])\n",
    "p = np.array([np.pi, np.pi])\n",
    "t1,t2 = np.linalg.inv(chi_mat).dot(p)  # Solve system of linear equations AX=b => X = inv(A).b\n",
    "\n",
    "print('Wait times : t1 = %.2f'%t1,'us ; t2 = %.2f'%t2,'us')"
   ]
  },
  {
   "cell_type": "code",
   "execution_count": null,
   "metadata": {},
   "outputs": [],
   "source": []
  }
 ],
 "metadata": {
  "kernelspec": {
   "display_name": "Python 3",
   "language": "python",
   "name": "python3"
  },
  "language_info": {
   "codemirror_mode": {
    "name": "ipython",
    "version": 3
   },
   "file_extension": ".py",
   "mimetype": "text/x-python",
   "name": "python",
   "nbconvert_exporter": "python",
   "pygments_lexer": "ipython3",
   "version": "3.7.3"
  }
 },
 "nbformat": 4,
 "nbformat_minor": 4
}
