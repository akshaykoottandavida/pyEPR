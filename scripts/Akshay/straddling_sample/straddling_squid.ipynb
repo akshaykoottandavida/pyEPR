{
 "cells": [
  {
   "cell_type": "code",
   "execution_count": 1,
   "metadata": {},
   "outputs": [],
   "source": [
    "%load_ext autoreload\n",
    "%autoreload 2\n",
    "%config IPCompleter.greedy = True"
   ]
  },
  {
   "cell_type": "markdown",
   "metadata": {},
   "source": [
    "# pyEPR analysis of straddling regime sample for pair-coherent state experiment\n",
    "\n",
    "\n",
    "Author: Akshay Koottandavida"
   ]
  },
  {
   "cell_type": "markdown",
   "metadata": {},
   "source": [
    "## <div style=\"background:#BBFABB;line-height:2em;\">Project = straddling_regime_transmon <br> Design = 3. straddling_squid<div>"
   ]
  },
  {
   "cell_type": "code",
   "execution_count": 1,
   "metadata": {},
   "outputs": [
    {
     "name": "stdout",
     "output_type": "stream",
     "text": [
      "Parsing unis:  2um = 2e-06 meters\n",
      "For   L_J = 8.5nH, the Josephson junction energy is\n",
      "      E_J = 19.2 GHz\n"
     ]
    }
   ],
   "source": [
    "import pyEPR as epr\n",
    "from pathlib import Path\n",
    "import logging\n",
    "epr.logger.setLevel(logging.DEBUG)\n",
    "%matplotlib inline\n",
    "\n",
    "print('Parsing unis:  2um =', \n",
    "      epr.parse_entry('2um', 'meters'), 'meters')\n",
    "\n",
    "print(f\"\"\"For   L_J = 8.5nH, the Josephson junction energy is\n",
    "      E_J = {epr.calcs.Convert.Ej_from_Lj(8.5, 'nH', 'GHz'):.1f} GHz\"\"\")"
   ]
  },
  {
   "cell_type": "code",
   "execution_count": 7,
   "metadata": {},
   "outputs": [
    {
     "name": "stderr",
     "output_type": "stream",
     "text": [
      "INFO 06:43PM [connect]: Connecting to Ansys Desktop API...\n",
      "INFO 06:43PM [load_ansys_project]: \tFile path to HFSS project found.\n",
      "INFO 06:43PM [load_ansys_project]: \tOpened Ansys App\n",
      "INFO 06:43PM [load_ansys_project]: \tOpened Ansys Desktop v2016.0.0\n",
      "INFO 06:43PM [load_ansys_project]: \tOpened Ansys Project\n",
      "\tFolder:    Z:/akshay_koottandavida/3. Pair-Coherent States/HFSS/pcs_straddling_regime/\n",
      "\tProject:   straddling_regime_transmon\n"
     ]
    },
    {
     "name": "stdout",
     "output_type": "stream",
     "text": [
      "Z:\\akshay_koottandavida\\3. Pair-Coherent States\\HFSS\\pcs_straddling_regime\n",
      "straddling_regime_transmon\n"
     ]
    },
    {
     "name": "stderr",
     "output_type": "stream",
     "text": [
      "INFO 06:43PM [connect]: \tOpened active design\n",
      "\tDesign:    3. straddling_squid [Solution type: Eigenmode]\n",
      "INFO 06:43PM [get_setup]: \tOpened setup `Modes`  (<class 'pyEPR.ansys.HfssEMSetup'>)\n",
      "INFO 06:43PM [connect]: \tConnection to Ansys established successfully. 😀 \n",
      "\n"
     ]
    }
   ],
   "source": [
    "path_to_project = r'Z:\\akshay_koottandavida\\3. Pair-Coherent States\\HFSS\\pcs_straddling_regime'\n",
    "pinfo = epr.ProjectInfo(project_path = path_to_project, \n",
    "                         project_name = 'straddling_regime_transmon',\n",
    "                         design_name  = '3. straddling_squid')"
   ]
  },
  {
   "cell_type": "markdown",
   "metadata": {},
   "source": [
    "### Design details : Solution Type, object names, Analysis setup names, mesh statistic and convergence"
   ]
  },
  {
   "cell_type": "code",
   "execution_count": 18,
   "metadata": {},
   "outputs": [
    {
     "name": "stdout",
     "output_type": "stream",
     "text": [
      "\n",
      " Solution type :  Eigenmode\n",
      "\n",
      " Analysis names :  ('Modes',)\n",
      "\n",
      " No. of modes solved for :  3\n",
      "\n",
      " Mesh statistics & Convergence :\n"
     ]
    },
    {
     "data": {
      "text/html": [
       "<div>\n",
       "<style scoped>\n",
       "    .dataframe tbody tr th:only-of-type {\n",
       "        vertical-align: middle;\n",
       "    }\n",
       "\n",
       "    .dataframe tbody tr th {\n",
       "        vertical-align: top;\n",
       "    }\n",
       "\n",
       "    .dataframe thead th {\n",
       "        text-align: right;\n",
       "    }\n",
       "</style>\n",
       "<table border=\"1\" class=\"dataframe\">\n",
       "  <thead>\n",
       "    <tr style=\"text-align: right;\">\n",
       "      <th></th>\n",
       "      <th>Unnamed: 0</th>\n",
       "      <th>Num Tets</th>\n",
       "      <th>Min edge length</th>\n",
       "      <th>Max edge length</th>\n",
       "      <th>RMS edge length</th>\n",
       "      <th>Min tet vol</th>\n",
       "      <th>Max tet vol</th>\n",
       "      <th>Mean tet vol</th>\n",
       "      <th>Std Devn (vol)</th>\n",
       "    </tr>\n",
       "  </thead>\n",
       "  <tbody>\n",
       "    <tr>\n",
       "      <th>0</th>\n",
       "      <td>ES_chip</td>\n",
       "      <td>6558</td>\n",
       "      <td>0.000155</td>\n",
       "      <td>0.179676</td>\n",
       "      <td>0.012979</td>\n",
       "      <td>2.158610e-13</td>\n",
       "      <td>0.000040</td>\n",
       "      <td>2.032640e-07</td>\n",
       "      <td>0.000002</td>\n",
       "    </tr>\n",
       "    <tr>\n",
       "      <th>1</th>\n",
       "      <td>magnet_seat</td>\n",
       "      <td>16344</td>\n",
       "      <td>0.000167</td>\n",
       "      <td>0.183580</td>\n",
       "      <td>0.061235</td>\n",
       "      <td>2.515010e-13</td>\n",
       "      <td>0.000382</td>\n",
       "      <td>1.255140e-05</td>\n",
       "      <td>0.000030</td>\n",
       "    </tr>\n",
       "    <tr>\n",
       "      <th>2</th>\n",
       "      <td>magnet_core</td>\n",
       "      <td>320</td>\n",
       "      <td>0.047283</td>\n",
       "      <td>0.200000</td>\n",
       "      <td>0.127065</td>\n",
       "      <td>1.659050e-06</td>\n",
       "      <td>0.000096</td>\n",
       "      <td>3.415000e-05</td>\n",
       "      <td>0.000025</td>\n",
       "    </tr>\n",
       "  </tbody>\n",
       "</table>\n",
       "</div>"
      ],
      "text/plain": [
       "     Unnamed: 0  Num Tets    Min edge length    Max edge length    \\\n",
       "0      ES_chip         6558           0.000155           0.179676   \n",
       "1  magnet_seat        16344           0.000167           0.183580   \n",
       "2  magnet_core          320           0.047283           0.200000   \n",
       "\n",
       "   RMS edge length    Min tet vol    Max tet vol    Mean tet vol    \\\n",
       "0           0.012979   2.158610e-13       0.000040    2.032640e-07   \n",
       "1           0.061235   2.515010e-13       0.000382    1.255140e-05   \n",
       "2           0.127065   1.659050e-06       0.000096    3.415000e-05   \n",
       "\n",
       "   Std Devn (vol)    \n",
       "0          0.000002  \n",
       "1          0.000030  \n",
       "2          0.000025  "
      ]
     },
     "execution_count": 18,
     "metadata": {},
     "output_type": "execute_result"
    }
   ],
   "source": [
    "print(\"\\n Solution type : \",pinfo.design.solution_type)\n",
    "#print(pinfo.get_all_object_names())\n",
    "print(\"\\n Analysis names : \",pinfo.design.get_setup_names())\n",
    "print(\"\\n No. of modes solved for : \",pinfo.setup.n_modes)\n",
    "print(\"\\n Mesh statistics & Convergence :\")\n",
    "pinfo.setup.get_mesh_stats()"
   ]
  },
  {
   "cell_type": "markdown",
   "metadata": {},
   "source": [
    "## Define josephson junctions"
   ]
  },
  {
   "cell_type": "code",
   "execution_count": 20,
   "metadata": {},
   "outputs": [],
   "source": [
    "pinfo.junctions['j1'] = {'Lj_variable' : 'LJ_es', \n",
    "                         'rect'        : 'es_junction', \n",
    "                         'line'        : 'Polyline1', \n",
    "                         'length'      : epr.parse_units('200um')}\n",
    "\n",
    "# Check that valid names of variables and objects have been supplied.\n",
    "# An error is raised with a message if something is wrong.\n",
    "pinfo.validate_junction_info()  "
   ]
  },
  {
   "cell_type": "markdown",
   "metadata": {},
   "source": [
    "## <div style=\"background:#BBFABB;line-height:2em;\">Microwave Analysis: <br>Run analysis on an eigenmode solution  <div>"
   ]
  },
  {
   "cell_type": "code",
   "execution_count": 27,
   "metadata": {},
   "outputs": [
    {
     "name": "stdout",
     "output_type": "stream",
     "text": [
      "Design \"3. straddling_squid\" info:\n",
      "\t# eigenmodes    3\n",
      "\t# variations    1\n"
     ]
    },
    {
     "data": {
      "text/html": [
       "<div>\n",
       "<style scoped>\n",
       "    .dataframe tbody tr th:only-of-type {\n",
       "        vertical-align: middle;\n",
       "    }\n",
       "\n",
       "    .dataframe tbody tr th {\n",
       "        vertical-align: top;\n",
       "    }\n",
       "\n",
       "    .dataframe thead th {\n",
       "        text-align: right;\n",
       "    }\n",
       "</style>\n",
       "<table border=\"1\" class=\"dataframe\">\n",
       "  <thead>\n",
       "    <tr style=\"text-align: right;\">\n",
       "      <th></th>\n",
       "      <th></th>\n",
       "      <th>Freq. (GHz)</th>\n",
       "      <th>Quality Factor</th>\n",
       "    </tr>\n",
       "    <tr>\n",
       "      <th>variation</th>\n",
       "      <th>mode</th>\n",
       "      <th></th>\n",
       "      <th></th>\n",
       "    </tr>\n",
       "  </thead>\n",
       "  <tbody>\n",
       "    <tr>\n",
       "      <th rowspan=\"3\" valign=\"top\">0</th>\n",
       "      <th>0</th>\n",
       "      <td>6.113303</td>\n",
       "      <td>2.414583e+14</td>\n",
       "    </tr>\n",
       "    <tr>\n",
       "      <th>1</th>\n",
       "      <td>6.320540</td>\n",
       "      <td>5.304169e+13</td>\n",
       "    </tr>\n",
       "    <tr>\n",
       "      <th>2</th>\n",
       "      <td>6.825098</td>\n",
       "      <td>2.716447e+11</td>\n",
       "    </tr>\n",
       "  </tbody>\n",
       "</table>\n",
       "</div>"
      ],
      "text/plain": [
       "                Freq. (GHz)  Quality Factor\n",
       "variation mode                             \n",
       "0         0        6.113303    2.414583e+14\n",
       "          1        6.320540    5.304169e+13\n",
       "          2        6.825098    2.716447e+11"
      ]
     },
     "execution_count": 27,
     "metadata": {},
     "output_type": "execute_result"
    }
   ],
   "source": [
    "eprh = epr.DistributedAnalysis(pinfo)\n",
    "# eprh.get_ansys_variables()            # Prints all the variables in the design\n",
    "eprh.get_ansys_frequencies_all()\n",
    "# eprh.hfss_report_full_convergence();  # Shows convergence report"
   ]
  },
  {
   "cell_type": "markdown",
   "metadata": {},
   "source": [
    "#### Run full analysis"
   ]
  },
  {
   "cell_type": "code",
   "execution_count": 29,
   "metadata": {
    "scrolled": true
   },
   "outputs": [
    {
     "name": "stdout",
     "output_type": "stream",
     "text": [
      "\n",
      "Variation 0  [1/1]\n",
      "\n",
      "  \u001b[1mMode 0 at 6.11 GHz   [1/3]\u001b[0m\n",
      "    Calculating ℰ_magnetic,ℰ_electric\n"
     ]
    },
    {
     "name": "stderr",
     "output_type": "stream",
     "text": [
      "DEBUG 06:57PM [calc_p_junction]: Calculating participations for ('j1', {'Lj_variable': 'LJ_es', 'rect': 'es_junction', 'line': 'Polyline1', 'length': 0.00019999999999999998})\n"
     ]
    },
    {
     "name": "stdout",
     "output_type": "stream",
     "text": [
      "       (ℰ_E-ℰ_H)/ℰ_E       ℰ_E       ℰ_H\n",
      "                0.3%          1    0.9967\n",
      "\n",
      "    Calculating junction energy participation ration (EPR)\n",
      "\tmethod=`line_voltage`. First estimates:\n",
      "\tjunction        EPR p_0j   sign s_0j    (p_capacitive)\n",
      "\t\tEnergy fraction (Lj over Lj&Cj)= 97.56%\n",
      "\tj1              0.00014548  (+)        3.6356e-06\n",
      "\t\t(U_tot_cap-U_tot_ind)/mean=0.16%\n",
      "\n",
      "  \u001b[1mMode 1 at 6.32 GHz   [2/3]\u001b[0m\n",
      "    Calculating ℰ_magnetic,ℰ_electric\n"
     ]
    },
    {
     "name": "stderr",
     "output_type": "stream",
     "text": [
      "DEBUG 06:57PM [calc_p_junction]: Calculating participations for ('j1', {'Lj_variable': 'LJ_es', 'rect': 'es_junction', 'line': 'Polyline1', 'length': 0.00019999999999999998})\n"
     ]
    },
    {
     "name": "stdout",
     "output_type": "stream",
     "text": [
      "       (ℰ_E-ℰ_H)/ℰ_E       ℰ_E       ℰ_H\n",
      "                0.4%          1     0.996\n",
      "\n",
      "    Calculating junction energy participation ration (EPR)\n",
      "\tmethod=`line_voltage`. First estimates:\n",
      "\tjunction        EPR p_1j   sign s_1j    (p_capacitive)\n",
      "\t\tEnergy fraction (Lj over Lj&Cj)= 97.40%\n",
      "\tj1              0.000222374  (+)        5.94039e-06\n",
      "\t\t(U_tot_cap-U_tot_ind)/mean=0.20%\n",
      "\n",
      "  \u001b[1mMode 2 at 6.83 GHz   [3/3]\u001b[0m\n",
      "    Calculating ℰ_magnetic,ℰ_electric\n"
     ]
    },
    {
     "name": "stderr",
     "output_type": "stream",
     "text": [
      "DEBUG 06:57PM [calc_p_junction]: Calculating participations for ('j1', {'Lj_variable': 'LJ_es', 'rect': 'es_junction', 'line': 'Polyline1', 'length': 0.00019999999999999998})\n"
     ]
    },
    {
     "name": "stdout",
     "output_type": "stream",
     "text": [
      "       (ℰ_E-ℰ_H)/ℰ_E       ℰ_E       ℰ_H\n",
      "               97.2%      1.947   0.05429\n",
      "\n",
      "    Calculating junction energy participation ration (EPR)\n",
      "\tmethod=`line_voltage`. First estimates:\n",
      "\tjunction        EPR p_2j   sign s_2j    (p_capacitive)\n",
      "\t\tEnergy fraction (Lj over Lj&Cj)= 96.98%\n",
      "\tj1              0.970042  (+)        0.0302155\n",
      "\t\t(U_tot_cap-U_tot_ind)/mean=1.59%\n",
      "\n",
      "ANALYSIS DONE. Data saved to:\n",
      "\n",
      "Z:\\akshay_koottandavida\\Code\\pyEPR\\data-pyEPR\\straddling_regime_transmon\\3. straddling_squid\\2020-03-02 18-56-19.npz\n",
      "\n",
      "\n"
     ]
    }
   ],
   "source": [
    "eprh.do_EPR_analysis();"
   ]
  },
  {
   "cell_type": "markdown",
   "metadata": {},
   "source": [
    "## <div style=\"background:#BBFABB;line-height:2em;\"> Quantum Hamiltonian Analysis: <div>"
   ]
  },
  {
   "cell_type": "code",
   "execution_count": 34,
   "metadata": {
    "scrolled": true
   },
   "outputs": [
    {
     "name": "stderr",
     "output_type": "stream",
     "text": [
      "WARNING 06:59PM [__init__]: <p>Error: <class 'IndexError'></p>\n",
      "DEBUG 06:59PM [get_epr_base_matrices]: PJ=\n",
      "DEBUG 06:59PM [get_epr_base_matrices]: [[1.45479063e-04]\n",
      " [2.22373125e-04]\n",
      " [9.72499020e-01]]\n",
      "DEBUG 06:59PM [get_epr_base_matrices]: SJ=\n",
      "DEBUG 06:59PM [get_epr_base_matrices]: [[1]\n",
      " [1]\n",
      " [1]]\n",
      "DEBUG 06:59PM [get_epr_base_matrices]: Om=\n",
      "DEBUG 06:59PM [get_epr_base_matrices]: [[6.11330274 0.         0.        ]\n",
      " [0.         6.32054005 0.        ]\n",
      " [0.         0.         6.82509753]]\n",
      "DEBUG 06:59PM [get_epr_base_matrices]: EJ=\n",
      "DEBUG 06:59PM [get_epr_base_matrices]: [[19.30115867]]\n"
     ]
    },
    {
     "name": "stdout",
     "output_type": "stream",
     "text": [
      "\t Differences in variations:\n",
      "\n",
      "\n",
      "\n",
      " . . . . . . . . . . . . . . . . . . . . . . . . . . . . . . . . . . . . . . . . \n",
      "Variation 0\n",
      "\n",
      "Starting the diagonalization\n",
      "Finished the diagonalization\n",
      "Pm_norm=\n",
      "modes\n",
      "0    12.144636\n",
      "1     9.835731\n",
      "2     1.032825\n",
      "dtype: float64\n",
      "\n",
      "Pm_norm idx =\n",
      "      j1\n",
      "0  False\n",
      "1  False\n",
      "2   True\n",
      "*** P (participation matrix, not normlz.)\n",
      "         j1\n",
      "0  0.000145\n",
      "1  0.000222\n",
      "2  0.941592\n",
      "\n",
      "*** S (sign-bit matrix)\n",
      "   s_j1\n",
      "0     1\n",
      "1     1\n",
      "2     1\n",
      "*** P (participation matrix, normalized.)\n",
      "   0.00015\n",
      "   0.00022\n",
      "      0.97\n",
      "\n",
      "*** Chi matrix O1 PT (MHz)\n",
      "    Diag is anharmonicity, off diag is full cross-Kerr.\n",
      "  5.12e-06 1.62e-05   0.0765\n",
      "  1.62e-05 1.28e-05    0.121\n",
      "    0.0765    0.121      285\n",
      "\n",
      "*** Chi matrix ND (MHz) \n",
      "  8.21e-05 0.000661     1.09\n",
      "  0.000661 0.000941    -1.47\n",
      "      1.09    -1.47      318\n",
      "\n",
      "*** Frequencies O1 PT (MHz)\n",
      "0    6113.264498\n",
      "1    6320.479610\n",
      "2    6539.685130\n",
      "dtype: float64\n",
      "\n",
      "*** Frequencies ND (MHz)\n",
      "0    6113.233794\n",
      "1    6320.385377\n",
      "2    6526.732866\n",
      "dtype: float64\n",
      "\n",
      "*** Q_coupling\n",
      "Empty DataFrame\n",
      "Columns: []\n",
      "Index: [0, 1, 2]\n"
     ]
    },
    {
     "name": "stderr",
     "output_type": "stream",
     "text": [
      "C:\\Users\\Akshay\\Anaconda3\\lib\\site-packages\\pandas\\plotting\\_core.py:1001: UserWarning: Attempting to set identical left == right == 0.0 results in singular transformations; automatically expanding.\n",
      "  ax.set_xlim(left, right)\n"
     ]
    },
    {
     "data": {
      "image/png": "[encoded data removed]",
      "text/plain": [
       "<Figure size 720x432 with 4 Axes>"
      ]
     },
     "metadata": {
      "needs_background": "light"
     },
     "output_type": "display_data"
    }
   ],
   "source": [
    "# Load saved solutions from above\n",
    "epra = epr.QuantumAnalysis(eprh.data_filename)\n",
    "\n",
    "# Analyze \n",
    "epra.analyze_all_variations(cos_trunc = 8, fock_trunc = 15)\n",
    "epra.plot_hamiltonian_results();"
   ]
  },
  {
   "cell_type": "code",
   "execution_count": 75,
   "metadata": {},
   "outputs": [
    {
     "data": {
      "text/html": [
       "<div>\n",
       "<style scoped>\n",
       "    .dataframe tbody tr th:only-of-type {\n",
       "        vertical-align: middle;\n",
       "    }\n",
       "\n",
       "    .dataframe tbody tr th {\n",
       "        vertical-align: top;\n",
       "    }\n",
       "\n",
       "    .dataframe thead th {\n",
       "        text-align: right;\n",
       "    }\n",
       "</style>\n",
       "<table border=\"1\" class=\"dataframe\">\n",
       "  <thead>\n",
       "    <tr style=\"text-align: right;\">\n",
       "      <th>variation</th>\n",
       "      <th>0</th>\n",
       "    </tr>\n",
       "    <tr>\n",
       "      <th>eigenmode</th>\n",
       "      <th></th>\n",
       "    </tr>\n",
       "  </thead>\n",
       "  <tbody>\n",
       "    <tr>\n",
       "      <th>0</th>\n",
       "      <td>6113.233794</td>\n",
       "    </tr>\n",
       "    <tr>\n",
       "      <th>1</th>\n",
       "      <td>6320.385377</td>\n",
       "    </tr>\n",
       "    <tr>\n",
       "      <th>2</th>\n",
       "      <td>6526.732866</td>\n",
       "    </tr>\n",
       "  </tbody>\n",
       "</table>\n",
       "</div>"
      ],
      "text/plain": [
       "variation            0\n",
       "eigenmode             \n",
       "0          6113.233794\n",
       "1          6320.385377\n",
       "2          6526.732866"
      ]
     },
     "execution_count": 75,
     "metadata": {},
     "output_type": "execute_result"
    }
   ],
   "source": [
    "# for ND frequencies,set numeric=False.This is a mistake in the code.Everywehre else,set numeric=True\n",
    "epra.get_frequencies(numeric=False) "
   ]
  },
  {
   "cell_type": "code",
   "execution_count": 76,
   "metadata": {},
   "outputs": [
    {
     "data": {
      "text/html": [
       "<div>\n",
       "<style scoped>\n",
       "    .dataframe tbody tr th:only-of-type {\n",
       "        vertical-align: middle;\n",
       "    }\n",
       "\n",
       "    .dataframe tbody tr th {\n",
       "        vertical-align: top;\n",
       "    }\n",
       "\n",
       "    .dataframe thead th {\n",
       "        text-align: right;\n",
       "    }\n",
       "</style>\n",
       "<table border=\"1\" class=\"dataframe\">\n",
       "  <thead>\n",
       "    <tr style=\"text-align: right;\">\n",
       "      <th></th>\n",
       "      <th></th>\n",
       "      <th>0</th>\n",
       "      <th>1</th>\n",
       "      <th>2</th>\n",
       "    </tr>\n",
       "    <tr>\n",
       "      <th>variation</th>\n",
       "      <th></th>\n",
       "      <th></th>\n",
       "      <th></th>\n",
       "      <th></th>\n",
       "    </tr>\n",
       "  </thead>\n",
       "  <tbody>\n",
       "    <tr>\n",
       "      <th rowspan=\"3\" valign=\"top\">0</th>\n",
       "      <th>0</th>\n",
       "      <td>0.000082</td>\n",
       "      <td>0.000661</td>\n",
       "      <td>1.093826</td>\n",
       "    </tr>\n",
       "    <tr>\n",
       "      <th>1</th>\n",
       "      <td>0.000661</td>\n",
       "      <td>0.000941</td>\n",
       "      <td>-1.473753</td>\n",
       "    </tr>\n",
       "    <tr>\n",
       "      <th>2</th>\n",
       "      <td>1.093826</td>\n",
       "      <td>-1.473753</td>\n",
       "      <td>318.443844</td>\n",
       "    </tr>\n",
       "  </tbody>\n",
       "</table>\n",
       "</div>"
      ],
      "text/plain": [
       "                    0         1           2\n",
       "variation                                  \n",
       "0         0  0.000082  0.000661    1.093826\n",
       "          1  0.000661  0.000941   -1.473753\n",
       "          2  1.093826 -1.473753  318.443844"
      ]
     },
     "execution_count": 76,
     "metadata": {},
     "output_type": "execute_result"
    }
   ],
   "source": [
    "epra.get_chis()"
   ]
  },
  {
   "cell_type": "code",
   "execution_count": 72,
   "metadata": {},
   "outputs": [
    {
     "data": {
      "text/plain": [
       "6208.289022313594"
      ]
     },
     "execution_count": 72,
     "metadata": {},
     "output_type": "execute_result"
    }
   ],
   "source": [
    "w_ef = epra.get_frequencies(numeric=False)['0'][2]-epra.get_chis()[2][2]\n",
    "w_ef"
   ]
  },
  {
   "cell_type": "code",
   "execution_count": null,
   "metadata": {},
   "outputs": [],
   "source": []
  }
 ],
 "metadata": {
  "kernelspec": {
   "display_name": "Python 3",
   "language": "python",
   "name": "python3"
  },
  "language_info": {
   "codemirror_mode": {
    "name": "ipython",
    "version": 3
   },
   "file_extension": ".py",
   "mimetype": "text/x-python",
   "name": "python",
   "nbconvert_exporter": "python",
   "pygments_lexer": "ipython3",
   "version": "3.7.3"
  }
 },
 "nbformat": 4,
 "nbformat_minor": 4
}
